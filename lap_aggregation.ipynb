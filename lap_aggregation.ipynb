{
 "cells": [
  {
   "cell_type": "markdown",
   "id": "782c5a03",
   "metadata": {
    "papermill": {
     "duration": 0.016303,
     "end_time": "2024-10-31T15:44:15.407888",
     "exception": false,
     "start_time": "2024-10-31T15:44:15.391585",
     "status": "completed"
    },
    "tags": []
   },
   "source": [
    "# Importing Libraries"
   ]
  },
  {
   "cell_type": "code",
   "execution_count": 1,
   "id": "c19e7517",
   "metadata": {
    "_cell_guid": "b1076dfc-b9ad-4769-8c92-a6c4dae69d19",
    "_uuid": "8f2839f25d086af736a60e9eeb907d3b93b6e0e5",
    "execution": {
     "iopub.execute_input": "2024-10-31T15:44:15.442509Z",
     "iopub.status.busy": "2024-10-31T15:44:15.441996Z",
     "iopub.status.idle": "2024-10-31T15:44:18.702321Z",
     "shell.execute_reply": "2024-10-31T15:44:18.700948Z"
    },
    "papermill": {
     "duration": 3.281817,
     "end_time": "2024-10-31T15:44:18.705558",
     "exception": false,
     "start_time": "2024-10-31T15:44:15.423741",
     "status": "completed"
    },
    "tags": []
   },
   "outputs": [],
   "source": [
    "import os\n",
    "import logging\n",
    "import sys\n",
    "import numpy as np\n",
    "import pandas as pd\n",
    "import warnings\n",
    "warnings.filterwarnings('ignore')\n",
    "import matplotlib.pyplot as plt\n",
    "import seaborn as sns\n",
    "from sklearn.preprocessing import OneHotEncoder\n",
    "from sklearn.preprocessing import OrdinalEncoder\n",
    "from sklearn.linear_model import LinearRegression\n",
    "from sklearn.linear_model import LogisticRegression\n",
    "from sklearn.preprocessing import StandardScaler\n",
    "from sklearn.preprocessing import MinMaxScaler\n",
    "from xgboost import XGBClassifier\n",
    "import lightgbm as lgb\n",
    "from lightgbm import early_stopping\n",
    "from sklearn.model_selection import StratifiedKFold\n",
    "from sklearn.metrics import roc_auc_score\n",
    "import optuna\n",
    "from optuna.samplers import TPESampler\n",
    "from sklearn.metrics import roc_auc_score\n",
    "import joblib\n",
    "from scipy.optimize import minimize\n",
    "\n",
    "random_state = 68"
   ]
  },
  {
   "cell_type": "code",
   "execution_count": null,
   "id": "9cac4c5e",
   "metadata": {},
   "outputs": [],
   "source": [
    "# Set this path to the directory of your data file.\n",
    "path = \"/kaggle/input/loan-approval-prediction-pre/\""
   ]
  },
  {
   "cell_type": "markdown",
   "id": "36218c50",
   "metadata": {},
   "source": [
    "`cat_enc`: Encodes categorical variables using either One Hot Encoding or Ordinal Encoding.\n",
    "\n",
    "`lir_impute`: Uses Linear Regression to impute missing values.\n",
    "\n",
    "`create_var`: Creates new features that are hand-made.\n",
    "\n",
    "`feature_engineering`: Combines above 3 functions to perform feature engineering on dataset.\n",
    "\n",
    "\n",
    "Creating a seperate function for feature engineering is important as this feature engineering includes imputation of data, and therefore, it should be done after cv is splitted to reduce contamination of cv data."
   ]
  },
  {
   "cell_type": "code",
   "execution_count": 6,
   "id": "a4a975f0",
   "metadata": {
    "execution": {
     "iopub.execute_input": "2024-10-31T15:44:21.323121Z",
     "iopub.status.busy": "2024-10-31T15:44:21.322557Z",
     "iopub.status.idle": "2024-10-31T15:44:21.356673Z",
     "shell.execute_reply": "2024-10-31T15:44:21.355419Z"
    },
    "papermill": {
     "duration": 0.054518,
     "end_time": "2024-10-31T15:44:21.359644",
     "exception": false,
     "start_time": "2024-10-31T15:44:21.305126",
     "status": "completed"
    },
    "tags": []
   },
   "outputs": [],
   "source": [
    "def cat_enc(df, ohe, ordi, cats):\n",
    "    other_var = [\"person_age\", \"person_income\", \"person_emp_length\", \"loan_amnt\", \"loan_int_rate\", \"loan_percent_income\", \n",
    "                 \"cb_person_cred_hist_length\", \"Type\", \"loan_status\"]\n",
    "    df_cat1 = pd.DataFrame(ohe.transform(df[cats[0]]), columns = [x for xs in ohe.categories_ for x in xs]).reset_index(drop=True)\n",
    "    df_cat2 = pd.DataFrame(ordi.transform(df[cats[1]]), columns = cats[1]).reset_index(drop=True)\n",
    "    df_cat = pd.concat([df_cat1, df_cat2], axis=1)\n",
    "    df_enc = pd.concat([df[other_var].reset_index(drop=True),df_cat], axis=1)\n",
    "    return df_enc\n",
    "\n",
    "def lir_impute(lr, df_nmv, df_mv, features):\n",
    "    df_mv['loan_int_rate'] = lr.predict(df_mv[features])\n",
    "    return pd.concat([df_nmv, df_mv]).reset_index(drop=True)\n",
    "\n",
    "def create_var(data, aita, aite):\n",
    "    df = data.copy()\n",
    "    df['loan_int_rate'] = df['loan_int_rate']/100\n",
    "    df['loan_int_rate_month'] = (1 + df['loan_int_rate'])**(1/12) - 1\n",
    "    k =  1 + df['loan_int_rate_month']\n",
    "    P = df['person_income']*df['loan_percent_income']/12\n",
    "    L = df['loan_amnt']\n",
    "    tmp = (np.log(P/(P-L*(k-1)))/np.log(k)).replace([np.inf,-np.inf], np.nan)\n",
    "    df['est_payback_time_in_month'] = tmp.fillna(-999)\n",
    "    df['avg_income_by_age'] = [aita[x] if x in aita.index else aita[aita.index[abs(aita.index - x).argmin()]] for x in df[\"person_age\"]]\n",
    "    df['avg_income_by_emp'] = [aite[x] if x in aite.index else aite[aite.index[abs(aite.index - x).argmin()]] for x in df[\"person_age\"]]\n",
    "    df['income_diff_avg_age'] = df['person_income'] - df['avg_income_by_age']\n",
    "    df['income_diff_avg_emp'] = df['person_income'] - df['avg_income_by_emp']\n",
    "    df['risk_flag'] = ((df['Y'] == 1) & (df['loan_grade'].replace([\"D\",\"E\",\"F\",\"G\"], \"low\") == \"low\")).astype(\"int\")\n",
    "    return df\n",
    "    \n",
    "def feature_engineering(data, data_cv, impute=False, min_max = False):\n",
    "    df = data.copy()\n",
    "    df_cv = data_cv.copy()\n",
    "    \n",
    "    # Step 1: Encoding Categorical Variables\n",
    "    ohe = OneHotEncoder(handle_unknown='ignore', sparse_output=False)\n",
    "    ordi = OrdinalEncoder(handle_unknown='error')\n",
    "    cats = [['person_home_ownership','loan_intent','cb_person_default_on_file'], ['loan_grade']]\n",
    "    ohe.fit(df[cats[0]])\n",
    "    ordi.fit(df[cats[1]])\n",
    "    df_enc = cat_enc(df, ohe, ordi, cats)\n",
    "    df_cv_enc = cat_enc(df_cv, ohe, ordi, cats)\n",
    "    \n",
    "    if impute:\n",
    "        # Step 2.1: Imputing Missing Values - `loan_int_rate`\n",
    "        df_mv = df_enc[(df_enc.isna()[\"loan_int_rate\"])]\n",
    "        df_nmv = df_enc[~(df_enc.isna()[\"loan_int_rate\"])]\n",
    "        features_infer = df_nmv.columns[~((df_nmv.columns == 'person_emp_length') | (df_nmv.columns == 'loan_int_rate') | (df_nmv.columns == 'loan_status') | (df_nmv.columns == 'Type'))]\n",
    "        df_nmv_train, df_nmv_infer = df_nmv[features_infer], df_nmv['loan_int_rate']\n",
    "        lr = LinearRegression().fit(df_nmv_train, df_nmv_infer)\n",
    "        df_enc = lir_impute(lr, df_nmv, df_mv, features_infer)\n",
    "        \n",
    "        # Step 2.2: Imputing Missing Values - `person_emp_length`\n",
    "        df_mv = df_enc[(df_enc.isna()[\"person_emp_length\"])]\n",
    "        df_nmv = df_enc[~(df_enc.isna()[\"person_emp_length\"])]\n",
    "        diff_scores = [2.205876158220027e-52, 2.8034878798264012e-36, 7.216755273392921e-12]\n",
    "        pel_u = []\n",
    "        for col in ['person_income', 'loan_amnt', 'loan_percent_income']:\n",
    "            mean = np.mean(df_mv[col])\n",
    "            std = np.std(df_mv[col])\n",
    "            d = df_nmv[\"person_emp_length\"][(df_nmv[col] > mean-3*std) & (df_nmv[col] < mean+3*std)]\n",
    "            pel_u.append(np.mean(d))\n",
    "        pel_weights = np.log(1/np.array(diff_scores)) # Stronger weights for variables with higher confidence + Softened\n",
    "        pel_weights = pel_weights / np.sum(pel_weights)\n",
    "        pel_mean = np.sum(pel_u*pel_weights)\n",
    "        df_enc['person_emp_length'] = df_enc['person_emp_length'].fillna(pel_mean)\n",
    "    \n",
    "    # Step 3: Creating New Variables\n",
    "    aita = df_enc.groupby(\"person_age\")[\"person_income\"].mean()\n",
    "    aite = df_enc.groupby(\"person_emp_length\")[\"person_income\"].mean()\n",
    "    df_fe = create_var(df_enc, aita, aite)\n",
    "    df_cv_fe = create_var(df_cv_enc, aita, aite)\n",
    "    \n",
    "    # Step 4: Scale Normalizing with Scaler\n",
    "    train_cols = df_fe.columns[[x not in ['loan_status'] for x in df_fe.columns]]\n",
    "    Xdf_fe = df_fe[train_cols]\n",
    "    ydf_fe = df_fe['loan_status']\n",
    "    Xdf_cv_fe = df_cv_fe[train_cols]\n",
    "    ydf_cv_fe = df_cv_fe['loan_status']\n",
    "    if min_max:\n",
    "        scaler = MinMaxScaler().fit(Xdf_fe)\n",
    "    else:\n",
    "        scaler = StandardScaler().fit(Xdf_fe)\n",
    "    cols = Xdf_fe.columns\n",
    "    Xdf_fe = pd.DataFrame(scaler.transform(Xdf_fe), columns = cols)\n",
    "    Xdf_cv_fe = pd.DataFrame(scaler.transform(Xdf_cv_fe), columns = cols)\n",
    "    \n",
    "    return [Xdf_fe, ydf_fe, Xdf_cv_fe, ydf_cv_fe]"
   ]
  },
  {
   "cell_type": "markdown",
   "id": "2153e2a9",
   "metadata": {},
   "source": [
    "`model_pred`: Used to return y_pred given Xtest data and the Model."
   ]
  },
  {
   "cell_type": "code",
   "execution_count": 7,
   "id": "647b9303",
   "metadata": {
    "execution": {
     "iopub.execute_input": "2024-10-31T15:44:21.392973Z",
     "iopub.status.busy": "2024-10-31T15:44:21.392499Z",
     "iopub.status.idle": "2024-10-31T15:44:21.399635Z",
     "shell.execute_reply": "2024-10-31T15:44:21.398073Z"
    },
    "papermill": {
     "duration": 0.026991,
     "end_time": "2024-10-31T15:44:21.402305",
     "exception": false,
     "start_time": "2024-10-31T15:44:21.375314",
     "status": "completed"
    },
    "tags": []
   },
   "outputs": [],
   "source": [
    "def model_pred(models, Xtest):\n",
    "    y_pred = []\n",
    "    for model in models:\n",
    "        y_pred.append(model.predict_proba(Xtest)[:,1])\n",
    "    y_pred = np.array(y_pred).sum(axis=0)/len(models)\n",
    "    return y_pred"
   ]
  },
  {
   "cell_type": "markdown",
   "id": "9fe4a224",
   "metadata": {
    "papermill": {
     "duration": 0.015055,
     "end_time": "2024-10-31T15:44:21.433559",
     "exception": false,
     "start_time": "2024-10-31T15:44:21.418504",
     "status": "completed"
    },
    "tags": []
   },
   "source": [
    "# Preparing Xtest for Different Models"
   ]
  },
  {
   "cell_type": "code",
   "execution_count": 8,
   "id": "20e45dd3",
   "metadata": {
    "execution": {
     "iopub.execute_input": "2024-10-31T15:44:21.468537Z",
     "iopub.status.busy": "2024-10-31T15:44:21.467962Z",
     "iopub.status.idle": "2024-10-31T15:44:31.051673Z",
     "shell.execute_reply": "2024-10-31T15:44:31.050233Z"
    },
    "papermill": {
     "duration": 9.605174,
     "end_time": "2024-10-31T15:44:31.054611",
     "exception": false,
     "start_time": "2024-10-31T15:44:21.449437",
     "status": "completed"
    },
    "tags": []
   },
   "outputs": [],
   "source": [
    "Xtrain_un = pd.read_csv(path + \"/trains.csv\")\n",
    "Xtrain_mr = pd.read_csv(path + \"/merge_rmvd.csv\")\n",
    "Xtrain_md = pd.read_csv(path + \"/merged.csv\")\n",
    "Xtest = pd.read_csv(path + \"/cv.csv\")\n",
    "_,_,Xtest_un, ytest_un = feature_engineering(Xtrain_un, Xtest.copy())\n",
    "_,_,Xtest_mr, ytest_mr = feature_engineering(Xtrain_mr, Xtest.copy())\n",
    "_,_,Xtest_md, ytest_md = feature_engineering(Xtrain_md, Xtest.copy(), impute=True)"
   ]
  },
  {
   "cell_type": "markdown",
   "id": "eb8ffdc6",
   "metadata": {},
   "source": [
    "Since there are 3 different ways of creating a dataset, which includes different imputation etc., 3 different cross validation set has to be created.\n",
    "\n",
    "These created datasets will be stored as a list in `Xtest`.\n",
    "\n",
    "Since target value of cross validation is shared, only one copy of `ytest` will exist."
   ]
  },
  {
   "cell_type": "code",
   "execution_count": 9,
   "id": "11371a34",
   "metadata": {
    "execution": {
     "iopub.execute_input": "2024-10-31T15:44:31.090082Z",
     "iopub.status.busy": "2024-10-31T15:44:31.088548Z",
     "iopub.status.idle": "2024-10-31T15:44:31.095356Z",
     "shell.execute_reply": "2024-10-31T15:44:31.094046Z"
    },
    "papermill": {
     "duration": 0.027787,
     "end_time": "2024-10-31T15:44:31.098408",
     "exception": false,
     "start_time": "2024-10-31T15:44:31.070621",
     "status": "completed"
    },
    "tags": []
   },
   "outputs": [],
   "source": [
    "Xtest = [Xtest_un, Xtest_mr, Xtest_md]\n",
    "ytest = ytest_un"
   ]
  },
  {
   "cell_type": "markdown",
   "id": "879791b6",
   "metadata": {
    "papermill": {
     "duration": 0.015276,
     "end_time": "2024-10-31T15:44:31.129349",
     "exception": false,
     "start_time": "2024-10-31T15:44:31.114073",
     "status": "completed"
    },
    "tags": []
   },
   "source": [
    "# Loading Models\n",
    "\n",
    "The best models found in `lap_lgbm_models` and `lap_xgb_models` iPython Notebook will be loaded in this dataset to compare their individual performance against performance of aggregated models."
   ]
  },
  {
   "cell_type": "markdown",
   "id": "83813d31",
   "metadata": {
    "papermill": {
     "duration": 0.01498,
     "end_time": "2024-10-31T15:44:31.159454",
     "exception": false,
     "start_time": "2024-10-31T15:44:31.144474",
     "status": "completed"
    },
    "tags": []
   },
   "source": [
    "## XGB Models"
   ]
  },
  {
   "cell_type": "code",
   "execution_count": 10,
   "id": "4f24be55",
   "metadata": {
    "execution": {
     "iopub.execute_input": "2024-10-31T15:44:31.194114Z",
     "iopub.status.busy": "2024-10-31T15:44:31.193059Z",
     "iopub.status.idle": "2024-10-31T15:44:34.269989Z",
     "shell.execute_reply": "2024-10-31T15:44:34.268600Z"
    },
    "papermill": {
     "duration": 3.097818,
     "end_time": "2024-10-31T15:44:34.273070",
     "exception": false,
     "start_time": "2024-10-31T15:44:31.175252",
     "status": "completed"
    },
    "tags": []
   },
   "outputs": [],
   "source": [
    "xgb_model = []\n",
    "path_xgb = path + \"xgb_result/\"\n",
    "name = ['xgb11', 'xgb21', 'xgb31']\n",
    "for i in range(3):\n",
    "    m = []\n",
    "    for j in range(5):\n",
    "        n = path_xgb + name[i] + \"_\" + str(j) + \".json\"\n",
    "        model = XGBClassifier(random_state = random_state)\n",
    "        model.load_model(n)\n",
    "        m.append(model)\n",
    "    xgb_model.append(m)"
   ]
  },
  {
   "cell_type": "markdown",
   "id": "83d6b94a",
   "metadata": {
    "papermill": {
     "duration": 0.015495,
     "end_time": "2024-10-31T15:44:34.304720",
     "exception": false,
     "start_time": "2024-10-31T15:44:34.289225",
     "status": "completed"
    },
    "tags": []
   },
   "source": [
    "## LGBM Models"
   ]
  },
  {
   "cell_type": "code",
   "execution_count": 11,
   "id": "5d33efe0",
   "metadata": {
    "execution": {
     "iopub.execute_input": "2024-10-31T15:44:34.337168Z",
     "iopub.status.busy": "2024-10-31T15:44:34.336714Z",
     "iopub.status.idle": "2024-10-31T15:44:36.476516Z",
     "shell.execute_reply": "2024-10-31T15:44:36.475287Z"
    },
    "papermill": {
     "duration": 2.159629,
     "end_time": "2024-10-31T15:44:36.479629",
     "exception": false,
     "start_time": "2024-10-31T15:44:34.320000",
     "status": "completed"
    },
    "tags": []
   },
   "outputs": [],
   "source": [
    "lgbm_model = []\n",
    "path_lgbm = path + \"lgbm_result/\"\n",
    "name = ['lgbm11', 'lgbm21', 'lgbm31']\n",
    "for i in range(3):\n",
    "    m = []\n",
    "    for j in range(5):\n",
    "        n = path_lgbm + name[i] + \"_\" + str(j) + \".pkl\"\n",
    "        model = joblib.load(n)\n",
    "        m.append(model)\n",
    "    lgbm_model.append(m)"
   ]
  },
  {
   "cell_type": "markdown",
   "id": "5700203b",
   "metadata": {
    "papermill": {
     "duration": 0.015499,
     "end_time": "2024-10-31T15:44:36.511509",
     "exception": false,
     "start_time": "2024-10-31T15:44:36.496010",
     "status": "completed"
    },
    "tags": []
   },
   "source": [
    "## All Models"
   ]
  },
  {
   "cell_type": "code",
   "execution_count": 12,
   "id": "a263d96d",
   "metadata": {
    "execution": {
     "iopub.execute_input": "2024-10-31T15:44:36.548733Z",
     "iopub.status.busy": "2024-10-31T15:44:36.547394Z",
     "iopub.status.idle": "2024-10-31T15:45:00.584138Z",
     "shell.execute_reply": "2024-10-31T15:45:00.582899Z"
    },
    "papermill": {
     "duration": 24.057173,
     "end_time": "2024-10-31T15:45:00.587302",
     "exception": false,
     "start_time": "2024-10-31T15:44:36.530129",
     "status": "completed"
    },
    "tags": []
   },
   "outputs": [],
   "source": [
    "models = xgb_model + lgbm_model\n",
    "match_test = [0,1,2,0,1,2] # Match the Xtest data to the model.\n",
    "y_pred = []\n",
    "for i, mod in enumerate(models):\n",
    "    pred = model_pred(mod, Xtest[match_test[i]])\n",
    "    y_pred.append(pred)"
   ]
  },
  {
   "cell_type": "markdown",
   "id": "49f26958",
   "metadata": {},
   "source": [
    "# Model Aggregation\n",
    "Model Naming Convention:\n",
    "- Given 6 models [`xgb11`,`xgb12`,`xgb31`,`lgbm11`,`lgbm21`,1lgbm31`], models will be named by 6 digits.\n",
    "- 1 will indicate that model was used in aggregation, 0 will indicate it was not used.\n",
    "- E.g., 000110 means only `lgbm11` and `lgbm21` is used to create the corresponding aggregation."
   ]
  },
  {
   "cell_type": "markdown",
   "id": "a6babb56",
   "metadata": {
    "papermill": {
     "duration": 0.014899,
     "end_time": "2024-10-31T15:45:00.618104",
     "exception": false,
     "start_time": "2024-10-31T15:45:00.603205",
     "status": "completed"
    },
    "tags": []
   },
   "source": [
    "## Aggregation Technique 1: Stack\n",
    "\n",
    "Simple stacking method - that is, simple averaging method - of 2 or more models will be explored."
   ]
  },
  {
   "cell_type": "code",
   "execution_count": 13,
   "id": "12629b3b",
   "metadata": {
    "execution": {
     "iopub.execute_input": "2024-10-31T15:45:00.650898Z",
     "iopub.status.busy": "2024-10-31T15:45:00.650443Z",
     "iopub.status.idle": "2024-10-31T15:45:01.096052Z",
     "shell.execute_reply": "2024-10-31T15:45:01.094690Z"
    },
    "papermill": {
     "duration": 0.466777,
     "end_time": "2024-10-31T15:45:01.100102",
     "exception": false,
     "start_time": "2024-10-31T15:45:00.633325",
     "status": "completed"
    },
    "tags": []
   },
   "outputs": [],
   "source": [
    "sn, ss = [], []\n",
    "def stack_rec(add, counter, kept, name, y_pred, ytest, stack_name, stack_score):\n",
    "    if counter >= 6:\n",
    "        if sum(kept) == 0:\n",
    "            return\n",
    "        y_hat = (np.array(y_pred)[kept]).sum(axis=0) / sum(kept)\n",
    "        stack_score.append(roc_auc_score(ytest, y_hat))\n",
    "        stack_name.append(name)\n",
    "        return\n",
    "    else:\n",
    "        kept.append(add)\n",
    "        name += str(int(add))\n",
    "        counter += 1\n",
    "        stack_rec(True, counter, kept[:], name, y_pred, ytest, stack_name, stack_score)\n",
    "        stack_rec(False, counter, kept[:], name, y_pred, ytest, stack_name, stack_score)\n",
    "def help_stack_rec(sn, ss):\n",
    "    stack_rec(True, 0, [], \"\", y_pred, ytest, sn, ss)\n",
    "    stack_rec(False, 0, [], \"\", y_pred, ytest, sn, ss)\n",
    "    return sn, ss\n",
    "sn, ss = help_stack_rec(sn,ss)"
   ]
  },
  {
   "cell_type": "code",
   "execution_count": 14,
   "id": "fb3ff34b",
   "metadata": {
    "execution": {
     "iopub.execute_input": "2024-10-31T15:45:01.133099Z",
     "iopub.status.busy": "2024-10-31T15:45:01.132578Z",
     "iopub.status.idle": "2024-10-31T15:45:01.163524Z",
     "shell.execute_reply": "2024-10-31T15:45:01.162464Z"
    },
    "papermill": {
     "duration": 0.050068,
     "end_time": "2024-10-31T15:45:01.166006",
     "exception": false,
     "start_time": "2024-10-31T15:45:01.115938",
     "status": "completed"
    },
    "tags": []
   },
   "outputs": [
    {
     "data": {
      "text/html": [
       "<div>\n",
       "<style scoped>\n",
       "    .dataframe tbody tr th:only-of-type {\n",
       "        vertical-align: middle;\n",
       "    }\n",
       "\n",
       "    .dataframe tbody tr th {\n",
       "        vertical-align: top;\n",
       "    }\n",
       "\n",
       "    .dataframe thead th {\n",
       "        text-align: right;\n",
       "    }\n",
       "</style>\n",
       "<table border=\"1\" class=\"dataframe\">\n",
       "  <thead>\n",
       "    <tr style=\"text-align: right;\">\n",
       "      <th></th>\n",
       "      <th>Model</th>\n",
       "      <th>Score</th>\n",
       "    </tr>\n",
       "  </thead>\n",
       "  <tbody>\n",
       "    <tr>\n",
       "      <th>122</th>\n",
       "      <td>000010</td>\n",
       "      <td>0.958273</td>\n",
       "    </tr>\n",
       "    <tr>\n",
       "      <th>114</th>\n",
       "      <td>000110</td>\n",
       "      <td>0.958115</td>\n",
       "    </tr>\n",
       "    <tr>\n",
       "      <th>112</th>\n",
       "      <td>000111</td>\n",
       "      <td>0.958035</td>\n",
       "    </tr>\n",
       "    <tr>\n",
       "      <th>82</th>\n",
       "      <td>010110</td>\n",
       "      <td>0.957969</td>\n",
       "    </tr>\n",
       "    <tr>\n",
       "      <th>80</th>\n",
       "      <td>010111</td>\n",
       "      <td>0.957946</td>\n",
       "    </tr>\n",
       "  </tbody>\n",
       "</table>\n",
       "</div>"
      ],
      "text/plain": [
       "      Model     Score\n",
       "122  000010  0.958273\n",
       "114  000110  0.958115\n",
       "112  000111  0.958035\n",
       "82   010110  0.957969\n",
       "80   010111  0.957946"
      ]
     },
     "metadata": {},
     "output_type": "display_data"
    }
   ],
   "source": [
    "stack_out = pd.DataFrame([sn,ss]).T.drop_duplicates()\n",
    "stack_out.columns = [\"Model\", \"Score\"]\n",
    "display(stack_out.sort_values(by=\"Score\", ascending=False).head())"
   ]
  },
  {
   "cell_type": "markdown",
   "id": "4235e04f",
   "metadata": {
    "papermill": {
     "duration": 0.015468,
     "end_time": "2024-10-31T15:45:01.197475",
     "exception": false,
     "start_time": "2024-10-31T15:45:01.182007",
     "status": "completed"
    },
    "tags": []
   },
   "source": [
    "The Best Model is given with using a single model `lgbm21`."
   ]
  },
  {
   "cell_type": "markdown",
   "id": "9d33e494",
   "metadata": {
    "papermill": {
     "duration": 0.018581,
     "end_time": "2024-10-31T15:45:01.239413",
     "exception": false,
     "start_time": "2024-10-31T15:45:01.220832",
     "status": "completed"
    },
    "tags": []
   },
   "source": [
    "## Aggregation Technique 2: Optimize Through Model/Function\n",
    "\n",
    "Logistic Regression, "
   ]
  },
  {
   "cell_type": "markdown",
   "id": "86731ec3",
   "metadata": {
    "papermill": {
     "duration": 0.020643,
     "end_time": "2024-10-31T15:45:01.281021",
     "exception": false,
     "start_time": "2024-10-31T15:45:01.260378",
     "status": "completed"
    },
    "tags": []
   },
   "source": [
    "Structured dataset eases the process of training or fitting a model or function.\n",
    "\n",
    "`Dpred` is created for such purposes."
   ]
  },
  {
   "cell_type": "code",
   "execution_count": 15,
   "id": "d24c2ad8",
   "metadata": {
    "execution": {
     "iopub.execute_input": "2024-10-31T15:45:01.318963Z",
     "iopub.status.busy": "2024-10-31T15:45:01.318483Z",
     "iopub.status.idle": "2024-10-31T15:45:01.485483Z",
     "shell.execute_reply": "2024-10-31T15:45:01.484443Z"
    },
    "papermill": {
     "duration": 0.18874,
     "end_time": "2024-10-31T15:45:01.488242",
     "exception": false,
     "start_time": "2024-10-31T15:45:01.299502",
     "status": "completed"
    },
    "tags": []
   },
   "outputs": [
    {
     "data": {
      "text/html": [
       "<div>\n",
       "<style scoped>\n",
       "    .dataframe tbody tr th:only-of-type {\n",
       "        vertical-align: middle;\n",
       "    }\n",
       "\n",
       "    .dataframe tbody tr th {\n",
       "        vertical-align: top;\n",
       "    }\n",
       "\n",
       "    .dataframe thead th {\n",
       "        text-align: right;\n",
       "    }\n",
       "</style>\n",
       "<table border=\"1\" class=\"dataframe\">\n",
       "  <thead>\n",
       "    <tr style=\"text-align: right;\">\n",
       "      <th></th>\n",
       "      <th>x1</th>\n",
       "      <th>x2</th>\n",
       "      <th>x3</th>\n",
       "      <th>l1</th>\n",
       "      <th>l2</th>\n",
       "      <th>l3</th>\n",
       "      <th>loan_status</th>\n",
       "    </tr>\n",
       "  </thead>\n",
       "  <tbody>\n",
       "    <tr>\n",
       "      <th>0</th>\n",
       "      <td>0.943298</td>\n",
       "      <td>0.960639</td>\n",
       "      <td>0.950607</td>\n",
       "      <td>0.931120</td>\n",
       "      <td>0.933348</td>\n",
       "      <td>0.961762</td>\n",
       "      <td>1</td>\n",
       "    </tr>\n",
       "    <tr>\n",
       "      <th>1</th>\n",
       "      <td>0.017766</td>\n",
       "      <td>0.021783</td>\n",
       "      <td>0.031836</td>\n",
       "      <td>0.019813</td>\n",
       "      <td>0.017364</td>\n",
       "      <td>0.010938</td>\n",
       "      <td>0</td>\n",
       "    </tr>\n",
       "    <tr>\n",
       "      <th>2</th>\n",
       "      <td>0.003879</td>\n",
       "      <td>0.002322</td>\n",
       "      <td>0.005574</td>\n",
       "      <td>0.004784</td>\n",
       "      <td>0.002753</td>\n",
       "      <td>0.002365</td>\n",
       "      <td>0</td>\n",
       "    </tr>\n",
       "    <tr>\n",
       "      <th>3</th>\n",
       "      <td>0.071550</td>\n",
       "      <td>0.069069</td>\n",
       "      <td>0.060546</td>\n",
       "      <td>0.082312</td>\n",
       "      <td>0.075299</td>\n",
       "      <td>0.063109</td>\n",
       "      <td>0</td>\n",
       "    </tr>\n",
       "    <tr>\n",
       "      <th>4</th>\n",
       "      <td>0.039824</td>\n",
       "      <td>0.027553</td>\n",
       "      <td>0.044944</td>\n",
       "      <td>0.033932</td>\n",
       "      <td>0.023897</td>\n",
       "      <td>0.025209</td>\n",
       "      <td>0</td>\n",
       "    </tr>\n",
       "  </tbody>\n",
       "</table>\n",
       "</div>"
      ],
      "text/plain": [
       "         x1        x2        x3        l1        l2        l3  loan_status\n",
       "0  0.943298  0.960639  0.950607  0.931120  0.933348  0.961762            1\n",
       "1  0.017766  0.021783  0.031836  0.019813  0.017364  0.010938            0\n",
       "2  0.003879  0.002322  0.005574  0.004784  0.002753  0.002365            0\n",
       "3  0.071550  0.069069  0.060546  0.082312  0.075299  0.063109            0\n",
       "4  0.039824  0.027553  0.044944  0.033932  0.023897  0.025209            0"
      ]
     },
     "metadata": {},
     "output_type": "display_data"
    }
   ],
   "source": [
    "Dpred = pd.DataFrame(y_pred).T\n",
    "cols = ['x1','x2','x3','l1','l2','l3']\n",
    "Dpred.columns = cols\n",
    "Dpred['loan_status'] = ytest\n",
    "display(Dpred.head())"
   ]
  },
  {
   "cell_type": "markdown",
   "id": "afeb8b78",
   "metadata": {
    "papermill": {
     "duration": 0.015649,
     "end_time": "2024-10-31T15:45:01.519855",
     "exception": false,
     "start_time": "2024-10-31T15:45:01.504206",
     "status": "completed"
    },
    "tags": []
   },
   "source": [
    "### Logistic Regression"
   ]
  },
  {
   "cell_type": "code",
   "execution_count": 16,
   "id": "e152f692",
   "metadata": {
    "execution": {
     "iopub.execute_input": "2024-10-31T15:45:01.554523Z",
     "iopub.status.busy": "2024-10-31T15:45:01.554080Z",
     "iopub.status.idle": "2024-10-31T15:45:06.164826Z",
     "shell.execute_reply": "2024-10-31T15:45:06.163616Z"
    },
    "papermill": {
     "duration": 4.631779,
     "end_time": "2024-10-31T15:45:06.168005",
     "exception": false,
     "start_time": "2024-10-31T15:45:01.536226",
     "status": "completed"
    },
    "tags": []
   },
   "outputs": [],
   "source": [
    "ln, ls = [], []\n",
    "def log_rec(add, counter, kept, name, y_pred, ytest, log_name, log_score):\n",
    "    if counter >= 6:\n",
    "        if sum(kept) == 0:\n",
    "            return\n",
    "        Xpred = pd.DataFrame(np.array(y_pred)[kept]).T\n",
    "        lgreg = LogisticRegression(random_state=random_state).fit(Xpred, ytest)\n",
    "        y_hat = lgreg.predict_proba(Xpred)[:,1]\n",
    "        log_score.append(roc_auc_score(ytest, y_hat))\n",
    "        log_name.append(name)\n",
    "        return\n",
    "    else:\n",
    "        kept.append(add)\n",
    "        name += str(int(add))\n",
    "        counter += 1\n",
    "        log_rec(True, counter, kept[:], name, y_pred, ytest, log_name, log_score)\n",
    "        log_rec(False, counter, kept[:], name, y_pred, ytest, log_name, log_score)\n",
    "def help_log_rec(ln, ls):\n",
    "    log_rec(True, 0, [], \"\", y_pred, ytest, ln, ls)\n",
    "    log_rec(False, 0, [], \"\", y_pred, ytest, ln, ls)\n",
    "    return ln, ls\n",
    "ln, ls = help_log_rec(ln,ls)"
   ]
  },
  {
   "cell_type": "code",
   "execution_count": 17,
   "id": "343c01a1",
   "metadata": {
    "execution": {
     "iopub.execute_input": "2024-10-31T15:45:06.204992Z",
     "iopub.status.busy": "2024-10-31T15:45:06.204517Z",
     "iopub.status.idle": "2024-10-31T15:45:06.229034Z",
     "shell.execute_reply": "2024-10-31T15:45:06.227884Z"
    },
    "papermill": {
     "duration": 0.04592,
     "end_time": "2024-10-31T15:45:06.231642",
     "exception": false,
     "start_time": "2024-10-31T15:45:06.185722",
     "status": "completed"
    },
    "tags": []
   },
   "outputs": [
    {
     "data": {
      "text/html": [
       "<div>\n",
       "<style scoped>\n",
       "    .dataframe tbody tr th:only-of-type {\n",
       "        vertical-align: middle;\n",
       "    }\n",
       "\n",
       "    .dataframe tbody tr th {\n",
       "        vertical-align: top;\n",
       "    }\n",
       "\n",
       "    .dataframe thead th {\n",
       "        text-align: right;\n",
       "    }\n",
       "</style>\n",
       "<table border=\"1\" class=\"dataframe\">\n",
       "  <thead>\n",
       "    <tr style=\"text-align: right;\">\n",
       "      <th></th>\n",
       "      <th>Model</th>\n",
       "      <th>Score</th>\n",
       "    </tr>\n",
       "  </thead>\n",
       "  <tbody>\n",
       "    <tr>\n",
       "      <th>114</th>\n",
       "      <td>000110</td>\n",
       "      <td>0.958365</td>\n",
       "    </tr>\n",
       "    <tr>\n",
       "      <th>106</th>\n",
       "      <td>001010</td>\n",
       "      <td>0.958289</td>\n",
       "    </tr>\n",
       "    <tr>\n",
       "      <th>122</th>\n",
       "      <td>000010</td>\n",
       "      <td>0.958273</td>\n",
       "    </tr>\n",
       "    <tr>\n",
       "      <th>112</th>\n",
       "      <td>000111</td>\n",
       "      <td>0.958256</td>\n",
       "    </tr>\n",
       "    <tr>\n",
       "      <th>96</th>\n",
       "      <td>001111</td>\n",
       "      <td>0.958226</td>\n",
       "    </tr>\n",
       "  </tbody>\n",
       "</table>\n",
       "</div>"
      ],
      "text/plain": [
       "      Model     Score\n",
       "114  000110  0.958365\n",
       "106  001010  0.958289\n",
       "122  000010  0.958273\n",
       "112  000111  0.958256\n",
       "96   001111  0.958226"
      ]
     },
     "metadata": {},
     "output_type": "display_data"
    }
   ],
   "source": [
    "log_out = pd.DataFrame([ln,ls]).T.drop_duplicates()\n",
    "log_out.columns=[\"Model\", \"Score\"]\n",
    "display(log_out.sort_values(by=\"Score\", ascending=False).head())"
   ]
  },
  {
   "cell_type": "markdown",
   "id": "d0a72c67",
   "metadata": {
    "papermill": {
     "duration": 0.016467,
     "end_time": "2024-10-31T15:45:06.264180",
     "exception": false,
     "start_time": "2024-10-31T15:45:06.247713",
     "status": "completed"
    },
    "tags": []
   },
   "source": [
    "The Best Model is given with using aggregation of `lgbm11` and `lgbm21`, or `xgb31` and `lgbm21`."
   ]
  },
  {
   "cell_type": "markdown",
   "id": "d75bd39a",
   "metadata": {
    "papermill": {
     "duration": 0.015796,
     "end_time": "2024-10-31T15:45:06.296262",
     "exception": false,
     "start_time": "2024-10-31T15:45:06.280466",
     "status": "completed"
    },
    "tags": []
   },
   "source": [
    "### Weighted Sum Optimization"
   ]
  },
  {
   "cell_type": "code",
   "execution_count": 18,
   "id": "6f70c12a",
   "metadata": {
    "execution": {
     "iopub.execute_input": "2024-10-31T15:45:06.332788Z",
     "iopub.status.busy": "2024-10-31T15:45:06.331212Z",
     "iopub.status.idle": "2024-10-31T15:45:11.260349Z",
     "shell.execute_reply": "2024-10-31T15:45:11.256704Z"
    },
    "papermill": {
     "duration": 4.954864,
     "end_time": "2024-10-31T15:45:11.267667",
     "exception": false,
     "start_time": "2024-10-31T15:45:06.312803",
     "status": "completed"
    },
    "tags": []
   },
   "outputs": [],
   "source": [
    "on, os = [], []\n",
    "def opt_rec(add, counter, kept, name, y_pred, ytest, opt_name, opt_score):\n",
    "    if counter >= 6:\n",
    "        if sum(kept) == 0:\n",
    "            return\n",
    "        Xpred = pd.DataFrame(np.array(y_pred)[kept]).T\n",
    "        def loss_func(w):\n",
    "            res = np.dot(Xpred, w) / np.sum(w)\n",
    "            return roc_auc_score(ytest, res)\n",
    "        w = np.random.randn(Xpred.shape[1])\n",
    "        w = minimize(loss_func, w, tol=1e-12)['x']\n",
    "        y_hat = np.matmul(Xpred, w) / np.sum(w)\n",
    "        opt_score.append(roc_auc_score(ytest, y_hat))\n",
    "        opt_name.append(name)\n",
    "        return\n",
    "    else:\n",
    "        kept.append(add)\n",
    "        name += str(int(add))\n",
    "        counter += 1\n",
    "        opt_rec(True, counter, kept[:], name, y_pred, ytest, opt_name, opt_score)\n",
    "        opt_rec(False, counter, kept[:], name, y_pred, ytest, opt_name, opt_score)\n",
    "def help_opt_rec(on, os):\n",
    "    opt_rec(True, 0, [], \"\", y_pred, ytest, on, os)\n",
    "    opt_rec(False, 0, [], \"\", y_pred, ytest, on, os)\n",
    "    return on, os\n",
    "on, os = help_opt_rec(on,os)"
   ]
  },
  {
   "cell_type": "code",
   "execution_count": 19,
   "id": "81c922e7",
   "metadata": {
    "execution": {
     "iopub.execute_input": "2024-10-31T15:45:11.314233Z",
     "iopub.status.busy": "2024-10-31T15:45:11.313745Z",
     "iopub.status.idle": "2024-10-31T15:45:11.338413Z",
     "shell.execute_reply": "2024-10-31T15:45:11.337335Z"
    },
    "papermill": {
     "duration": 0.051943,
     "end_time": "2024-10-31T15:45:11.341063",
     "exception": false,
     "start_time": "2024-10-31T15:45:11.289120",
     "status": "completed"
    },
    "tags": []
   },
   "outputs": [
    {
     "data": {
      "text/html": [
       "<div>\n",
       "<style scoped>\n",
       "    .dataframe tbody tr th:only-of-type {\n",
       "        vertical-align: middle;\n",
       "    }\n",
       "\n",
       "    .dataframe tbody tr th {\n",
       "        vertical-align: top;\n",
       "    }\n",
       "\n",
       "    .dataframe thead th {\n",
       "        text-align: right;\n",
       "    }\n",
       "</style>\n",
       "<table border=\"1\" class=\"dataframe\">\n",
       "  <thead>\n",
       "    <tr style=\"text-align: right;\">\n",
       "      <th></th>\n",
       "      <th>Model</th>\n",
       "      <th>Score</th>\n",
       "    </tr>\n",
       "  </thead>\n",
       "  <tbody>\n",
       "    <tr>\n",
       "      <th>115</th>\n",
       "      <td>000110</td>\n",
       "      <td>0.958462</td>\n",
       "    </tr>\n",
       "    <tr>\n",
       "      <th>122</th>\n",
       "      <td>000010</td>\n",
       "      <td>0.958273</td>\n",
       "    </tr>\n",
       "    <tr>\n",
       "      <th>114</th>\n",
       "      <td>000110</td>\n",
       "      <td>0.958258</td>\n",
       "    </tr>\n",
       "    <tr>\n",
       "      <th>81</th>\n",
       "      <td>010111</td>\n",
       "      <td>0.957981</td>\n",
       "    </tr>\n",
       "    <tr>\n",
       "      <th>120</th>\n",
       "      <td>000011</td>\n",
       "      <td>0.957624</td>\n",
       "    </tr>\n",
       "  </tbody>\n",
       "</table>\n",
       "</div>"
      ],
      "text/plain": [
       "      Model     Score\n",
       "115  000110  0.958462\n",
       "122  000010  0.958273\n",
       "114  000110  0.958258\n",
       "81   010111  0.957981\n",
       "120  000011  0.957624"
      ]
     },
     "metadata": {},
     "output_type": "display_data"
    }
   ],
   "source": [
    "opt_out = pd.DataFrame([on,os]).T.drop_duplicates()\n",
    "opt_out.columns=[\"Model\", \"Score\"]\n",
    "display(opt_out.sort_values(by=\"Score\", ascending=False).head())"
   ]
  },
  {
   "cell_type": "markdown",
   "id": "c34f2124",
   "metadata": {
    "papermill": {
     "duration": 0.015915,
     "end_time": "2024-10-31T15:45:11.374982",
     "exception": false,
     "start_time": "2024-10-31T15:45:11.359067",
     "status": "completed"
    },
    "tags": []
   },
   "source": [
    "The Best Model is given with using the aggregation of  `xgb31` and `lgbm21`, or `xgb11` and `lgbm21`."
   ]
  },
  {
   "cell_type": "markdown",
   "id": "cdab5b6f",
   "metadata": {
    "papermill": {
     "duration": 0.015988,
     "end_time": "2024-10-31T15:45:11.407241",
     "exception": false,
     "start_time": "2024-10-31T15:45:11.391253",
     "status": "completed"
    },
    "tags": []
   },
   "source": [
    "# Final Submission\n",
    "\n",
    "The best 5 models are used to make predictions on the preserved test set. After submission, internal score is given by kaggle. These were the result.\n",
    "\n",
    "1. Using `lgbm11` only - Public Score (Train Score): 0.96650, Private Score (Test Score): 0.96226.\n",
    "2. Usng `lgbm11`+`lgbm21` and Logistic Regression - Public Score (Train Score): 0.96700, Private Score (Test Score): 0.96240.\n",
    "3. Using `xgb31`+`lgbm21` and Logistic Regression - Public Score (Train Score): 0.96654, Private Score (Test Score): 0.96242.\n",
    "4. Using `xgb31`+`lgbm21` and Weighted Sum Opt. - Public Score (Train Score): 0.96612, Private Score (Test Score): 0.96219.\n",
    "5. Using `xgb11`+`lgbm21` and Weighted Sum Opt. - Public Score (Train Score): 0.96606, Private Score (Test Score): 0.96215."
   ]
  },
  {
   "cell_type": "code",
   "execution_count": 20,
   "id": "002c56aa",
   "metadata": {
    "execution": {
     "iopub.execute_input": "2024-10-31T15:45:11.442211Z",
     "iopub.status.busy": "2024-10-31T15:45:11.441003Z",
     "iopub.status.idle": "2024-10-31T15:45:11.556491Z",
     "shell.execute_reply": "2024-10-31T15:45:11.555293Z"
    },
    "papermill": {
     "duration": 0.136306,
     "end_time": "2024-10-31T15:45:11.559558",
     "exception": false,
     "start_time": "2024-10-31T15:45:11.423252",
     "status": "completed"
    },
    "tags": []
   },
   "outputs": [
    {
     "data": {
      "text/html": [
       "<div>\n",
       "<style scoped>\n",
       "    .dataframe tbody tr th:only-of-type {\n",
       "        vertical-align: middle;\n",
       "    }\n",
       "\n",
       "    .dataframe tbody tr th {\n",
       "        vertical-align: top;\n",
       "    }\n",
       "\n",
       "    .dataframe thead th {\n",
       "        text-align: right;\n",
       "    }\n",
       "</style>\n",
       "<table border=\"1\" class=\"dataframe\">\n",
       "  <thead>\n",
       "    <tr style=\"text-align: right;\">\n",
       "      <th></th>\n",
       "      <th>id</th>\n",
       "      <th>person_age</th>\n",
       "      <th>person_income</th>\n",
       "      <th>person_home_ownership</th>\n",
       "      <th>person_emp_length</th>\n",
       "      <th>loan_intent</th>\n",
       "      <th>loan_grade</th>\n",
       "      <th>loan_amnt</th>\n",
       "      <th>loan_int_rate</th>\n",
       "      <th>loan_percent_income</th>\n",
       "      <th>cb_person_default_on_file</th>\n",
       "      <th>cb_person_cred_hist_length</th>\n",
       "    </tr>\n",
       "  </thead>\n",
       "  <tbody>\n",
       "    <tr>\n",
       "      <th>0</th>\n",
       "      <td>58645</td>\n",
       "      <td>23</td>\n",
       "      <td>69000</td>\n",
       "      <td>RENT</td>\n",
       "      <td>3.0</td>\n",
       "      <td>HOMEIMPROVEMENT</td>\n",
       "      <td>F</td>\n",
       "      <td>25000</td>\n",
       "      <td>15.76</td>\n",
       "      <td>0.36</td>\n",
       "      <td>N</td>\n",
       "      <td>2</td>\n",
       "    </tr>\n",
       "    <tr>\n",
       "      <th>1</th>\n",
       "      <td>58646</td>\n",
       "      <td>26</td>\n",
       "      <td>96000</td>\n",
       "      <td>MORTGAGE</td>\n",
       "      <td>6.0</td>\n",
       "      <td>PERSONAL</td>\n",
       "      <td>C</td>\n",
       "      <td>10000</td>\n",
       "      <td>12.68</td>\n",
       "      <td>0.10</td>\n",
       "      <td>Y</td>\n",
       "      <td>4</td>\n",
       "    </tr>\n",
       "    <tr>\n",
       "      <th>2</th>\n",
       "      <td>58647</td>\n",
       "      <td>26</td>\n",
       "      <td>30000</td>\n",
       "      <td>RENT</td>\n",
       "      <td>5.0</td>\n",
       "      <td>VENTURE</td>\n",
       "      <td>E</td>\n",
       "      <td>4000</td>\n",
       "      <td>17.19</td>\n",
       "      <td>0.13</td>\n",
       "      <td>Y</td>\n",
       "      <td>2</td>\n",
       "    </tr>\n",
       "    <tr>\n",
       "      <th>3</th>\n",
       "      <td>58648</td>\n",
       "      <td>33</td>\n",
       "      <td>50000</td>\n",
       "      <td>RENT</td>\n",
       "      <td>4.0</td>\n",
       "      <td>DEBTCONSOLIDATION</td>\n",
       "      <td>A</td>\n",
       "      <td>7000</td>\n",
       "      <td>8.90</td>\n",
       "      <td>0.14</td>\n",
       "      <td>N</td>\n",
       "      <td>7</td>\n",
       "    </tr>\n",
       "    <tr>\n",
       "      <th>4</th>\n",
       "      <td>58649</td>\n",
       "      <td>26</td>\n",
       "      <td>102000</td>\n",
       "      <td>MORTGAGE</td>\n",
       "      <td>8.0</td>\n",
       "      <td>HOMEIMPROVEMENT</td>\n",
       "      <td>D</td>\n",
       "      <td>15000</td>\n",
       "      <td>16.32</td>\n",
       "      <td>0.15</td>\n",
       "      <td>Y</td>\n",
       "      <td>4</td>\n",
       "    </tr>\n",
       "  </tbody>\n",
       "</table>\n",
       "</div>"
      ],
      "text/plain": [
       "      id  person_age  person_income person_home_ownership  person_emp_length  \\\n",
       "0  58645          23          69000                  RENT                3.0   \n",
       "1  58646          26          96000              MORTGAGE                6.0   \n",
       "2  58647          26          30000                  RENT                5.0   \n",
       "3  58648          33          50000                  RENT                4.0   \n",
       "4  58649          26         102000              MORTGAGE                8.0   \n",
       "\n",
       "         loan_intent loan_grade  loan_amnt  loan_int_rate  \\\n",
       "0    HOMEIMPROVEMENT          F      25000          15.76   \n",
       "1           PERSONAL          C      10000          12.68   \n",
       "2            VENTURE          E       4000          17.19   \n",
       "3  DEBTCONSOLIDATION          A       7000           8.90   \n",
       "4    HOMEIMPROVEMENT          D      15000          16.32   \n",
       "\n",
       "   loan_percent_income cb_person_default_on_file  cb_person_cred_hist_length  \n",
       "0                 0.36                         N                           2  \n",
       "1                 0.10                         Y                           4  \n",
       "2                 0.13                         Y                           2  \n",
       "3                 0.14                         N                           7  \n",
       "4                 0.15                         Y                           4  "
      ]
     },
     "metadata": {},
     "output_type": "display_data"
    }
   ],
   "source": [
    "fin_test = pd.read_csv(path + \"/test.csv\")\n",
    "display(fin_test.head())"
   ]
  },
  {
   "cell_type": "code",
   "execution_count": 21,
   "id": "d383e170",
   "metadata": {
    "execution": {
     "iopub.execute_input": "2024-10-31T15:45:11.595737Z",
     "iopub.status.busy": "2024-10-31T15:45:11.595296Z",
     "iopub.status.idle": "2024-10-31T15:45:11.630180Z",
     "shell.execute_reply": "2024-10-31T15:45:11.628811Z"
    },
    "papermill": {
     "duration": 0.056364,
     "end_time": "2024-10-31T15:45:11.633083",
     "exception": false,
     "start_time": "2024-10-31T15:45:11.576719",
     "status": "completed"
    },
    "tags": []
   },
   "outputs": [],
   "source": [
    "def cat_enc_y(df, ohe, ordi, cats):\n",
    "    other_var = [\"person_age\", \"person_income\", \"person_emp_length\", \"loan_amnt\", \"loan_int_rate\", \"loan_percent_income\", \n",
    "                 \"cb_person_cred_hist_length\", \"id\"]\n",
    "    df_cat1 = pd.DataFrame(ohe.transform(df[cats[0]]), columns = [x for xs in ohe.categories_ for x in xs]).reset_index(drop=True)\n",
    "    df_cat2 = pd.DataFrame(ordi.transform(df[cats[1]]), columns = cats[1]).reset_index(drop=True)\n",
    "    df_cat = pd.concat([df_cat1, df_cat2], axis=1)\n",
    "    df_enc = pd.concat([df[other_var].reset_index(drop=True),df_cat], axis=1)\n",
    "    return df_enc\n",
    "\n",
    "def lir_impute(lr, df_nmv, df_mv, features):\n",
    "    df_mv['loan_int_rate'] = lr.predict(df_mv[features])\n",
    "    return pd.concat([df_nmv, df_mv]).reset_index(drop=True)\n",
    "\n",
    "def create_var_y(data, aita, aite):\n",
    "    df = data.copy()\n",
    "    df['loan_int_rate'] = df['loan_int_rate']/100\n",
    "    df['loan_int_rate_month'] = (1 + df['loan_int_rate'])**(1/12) - 1\n",
    "    k =  1 + df['loan_int_rate_month']\n",
    "    P = df['person_income']*df['loan_percent_income']/12\n",
    "    L = df['loan_amnt']\n",
    "    tmp = (np.log(P/(P-L*(k-1)))/np.log(k)).replace([np.inf,-np.inf], np.nan)\n",
    "    df['est_payback_time_in_month'] = tmp.fillna(-999)\n",
    "    df['avg_income_by_age'] = [aita[x] if x in aita.index else aita[aita.index[abs(aita.index - x).argmin()]] for x in df[\"person_age\"]]\n",
    "    df['avg_income_by_emp'] = [aite[x] if x in aite.index else aite[aite.index[abs(aite.index - x).argmin()]] for x in df[\"person_age\"]]\n",
    "    df['income_diff_avg_age'] = df['person_income'] - df['avg_income_by_age']\n",
    "    df['income_diff_avg_emp'] = df['person_income'] - df['avg_income_by_emp']\n",
    "    df['risk_flag'] = ((df['Y'] == 1) & (df['loan_grade'].replace([\"D\",\"E\",\"F\",\"G\"], \"low\") == \"low\")).astype(\"int\")\n",
    "    return df\n",
    "    \n",
    "def feature_engineering_y(data, data_cv, impute=False, min_max = False):\n",
    "    df = data.copy()\n",
    "    df_cv = data_cv.copy()\n",
    "    \n",
    "    # Step 1: Encoding Categorical Variables\n",
    "    ohe = OneHotEncoder(handle_unknown='ignore', sparse_output=False)\n",
    "    ordi = OrdinalEncoder(handle_unknown='error')\n",
    "    cats = [['person_home_ownership','loan_intent','cb_person_default_on_file'], ['loan_grade']]\n",
    "    ohe.fit(df[cats[0]])\n",
    "    ordi.fit(df[cats[1]])\n",
    "    df_enc = cat_enc(df, ohe, ordi, cats)\n",
    "    df_cv_enc = cat_enc_y(df_cv, ohe, ordi, cats)\n",
    "    \n",
    "    if impute:\n",
    "        # Step 2.1: Imputing Missing Values - `loan_int_rate`\n",
    "        df_mv = df_enc[(df_enc.isna()[\"loan_int_rate\"])]\n",
    "        df_nmv = df_enc[~(df_enc.isna()[\"loan_int_rate\"])]\n",
    "        df_cv_mv = df_cv_enc[(df_cv_enc.isna()[\"loan_int_rate\"])]\n",
    "        df_cv_nmv = df_cv_enc[~(df_cv_enc.isna()[\"loan_int_rate\"])]\n",
    "        features_infer = df_nmv.columns[~((df_nmv.columns == 'person_emp_length') | (df_nmv.columns == 'loan_int_rate') | (df_nmv.columns == 'loan_status') | (df_nmv.columns == 'Type'))]\n",
    "        df_nmv_train, df_nmv_infer = df_nmv[features_infer], df_nmv['loan_int_rate']\n",
    "        lr = LinearRegression().fit(df_nmv_train, df_nmv_infer)\n",
    "        df_enc = lir_impute(lr, df_nmv, df_mv, features_infer)\n",
    "        \n",
    "        # Step 2.2: Imputing Missing Values - `person_emp_length`\n",
    "        df_mv = df_enc[(df_enc.isna()[\"person_emp_length\"])]\n",
    "        df_nmv = df_enc[~(df_enc.isna()[\"person_emp_length\"])]\n",
    "        diff_scores = [2.205876158220027e-52, 2.8034878798264012e-36, 7.216755273392921e-12]\n",
    "        pel_u = []\n",
    "        for col in ['person_income', 'loan_amnt', 'loan_percent_income']:\n",
    "            mean = np.mean(df_mv[col])\n",
    "            std = np.std(df_mv[col])\n",
    "            d = df_nmv[\"person_emp_length\"][(df_nmv[col] > mean-3*std) & (df_nmv[col] < mean+3*std)]\n",
    "            pel_u.append(np.mean(d))\n",
    "        pel_weights = np.log(1/np.array(diff_scores)) # Stronger weights for variables with higher confidence + Softened\n",
    "        pel_weights = pel_weights / np.sum(pel_weights)\n",
    "        pel_mean = np.sum(pel_u*pel_weights)\n",
    "        df_enc['person_emp_length'] = df_enc['person_emp_length'].fillna(pel_mean)\n",
    "        df_cv_enc['person_emp_length'] = df_cv_enc['person_emp_length'].fillna(pel_mean)\n",
    "    \n",
    "    # Step 3: Creating New Variables\n",
    "    aita = df_enc.groupby(\"person_age\")[\"person_income\"].mean()\n",
    "    aite = df_enc.groupby(\"person_emp_length\")[\"person_income\"].mean()\n",
    "    df_fe = create_var_y(df_enc, aita, aite)\n",
    "    df_cv_fe = create_var_y(df_cv_enc, aita, aite)\n",
    "    \n",
    "    # Step 4: Scale Normalizing with Scaler\n",
    "    train_cols = df_fe.columns[[x not in ['loan_status'] for x in df_fe.columns]]\n",
    "    Xdf_fe = df_fe[train_cols]\n",
    "    ydf_fe = df_fe['loan_status']\n",
    "    fin_cols = df_cv_fe.columns[[x not in ['id'] for x in df_cv_fe.columns]]\n",
    "    Xdf_cv_fe = df_cv_fe[fin_cols]\n",
    "    Xdf_cv_fe[\"Type\"] = 1\n",
    "    Xdf_cv_fe = Xdf_cv_fe[train_cols]\n",
    "    id_cv_fe = df_cv_fe['id']\n",
    "    if min_max:\n",
    "        scaler = MinMaxScaler().fit(Xdf_fe)\n",
    "    else:\n",
    "        scaler = StandardScaler().fit(Xdf_fe)\n",
    "    cols = Xdf_fe.columns\n",
    "    Xdf_fe = pd.DataFrame(scaler.transform(Xdf_fe), columns = cols)\n",
    "    Xdf_cv_fe = pd.DataFrame(scaler.transform(Xdf_cv_fe), columns = cols)\n",
    "    \n",
    "    return [Xdf_fe, ydf_fe, Xdf_cv_fe, id_cv_fe]"
   ]
  },
  {
   "cell_type": "code",
   "execution_count": 22,
   "id": "30fe4b54",
   "metadata": {
    "execution": {
     "iopub.execute_input": "2024-10-31T15:45:11.668493Z",
     "iopub.status.busy": "2024-10-31T15:45:11.668032Z",
     "iopub.status.idle": "2024-10-31T15:45:24.714987Z",
     "shell.execute_reply": "2024-10-31T15:45:24.713721Z"
    },
    "papermill": {
     "duration": 13.068108,
     "end_time": "2024-10-31T15:45:24.718068",
     "exception": false,
     "start_time": "2024-10-31T15:45:11.649960",
     "status": "completed"
    },
    "tags": []
   },
   "outputs": [],
   "source": [
    "Xtrain_un = pd.read_csv(\"/kaggle/input/loan-approval-prediction-pre/train.csv\")\n",
    "Xtrain_mr = pd.read_csv(\"/kaggle/input/loan-approval-prediction-pre/merge_rmvd.csv\")\n",
    "Xtrain_md = pd.read_csv(\"/kaggle/input/loan-approval-prediction-pre/merged.csv\")\n",
    "_,_,Xtest_un, idtest_un = feature_engineering_y(Xtrain_un, fin_test.copy())\n",
    "_,_,Xtest_mr, idtest_mr = feature_engineering_y(Xtrain_mr, fin_test.copy())\n",
    "_,_,Xtest_md, idtest_md = feature_engineering_y(Xtrain_md, fin_test.copy(), impute=True)"
   ]
  },
  {
   "cell_type": "markdown",
   "id": "7b1d4eb1",
   "metadata": {
    "papermill": {
     "duration": 0.016859,
     "end_time": "2024-10-31T15:45:24.751834",
     "exception": false,
     "start_time": "2024-10-31T15:45:24.734975",
     "status": "completed"
    },
    "tags": []
   },
   "source": [
    "## 1. `lgbm21`"
   ]
  },
  {
   "cell_type": "code",
   "execution_count": 23,
   "id": "4ff1e857",
   "metadata": {
    "execution": {
     "iopub.execute_input": "2024-10-31T15:45:24.788072Z",
     "iopub.status.busy": "2024-10-31T15:45:24.787616Z",
     "iopub.status.idle": "2024-10-31T15:45:55.865519Z",
     "shell.execute_reply": "2024-10-31T15:45:55.864182Z"
    },
    "papermill": {
     "duration": 31.109239,
     "end_time": "2024-10-31T15:45:55.878435",
     "exception": false,
     "start_time": "2024-10-31T15:45:24.769196",
     "status": "completed"
    },
    "tags": []
   },
   "outputs": [
    {
     "data": {
      "text/html": [
       "<div>\n",
       "<style scoped>\n",
       "    .dataframe tbody tr th:only-of-type {\n",
       "        vertical-align: middle;\n",
       "    }\n",
       "\n",
       "    .dataframe tbody tr th {\n",
       "        vertical-align: top;\n",
       "    }\n",
       "\n",
       "    .dataframe thead th {\n",
       "        text-align: right;\n",
       "    }\n",
       "</style>\n",
       "<table border=\"1\" class=\"dataframe\">\n",
       "  <thead>\n",
       "    <tr style=\"text-align: right;\">\n",
       "      <th></th>\n",
       "      <th>id</th>\n",
       "      <th>loan_status</th>\n",
       "    </tr>\n",
       "  </thead>\n",
       "  <tbody>\n",
       "    <tr>\n",
       "      <th>0</th>\n",
       "      <td>58645</td>\n",
       "      <td>0.998640</td>\n",
       "    </tr>\n",
       "    <tr>\n",
       "      <th>1</th>\n",
       "      <td>58646</td>\n",
       "      <td>0.012747</td>\n",
       "    </tr>\n",
       "    <tr>\n",
       "      <th>2</th>\n",
       "      <td>58647</td>\n",
       "      <td>0.558178</td>\n",
       "    </tr>\n",
       "    <tr>\n",
       "      <th>3</th>\n",
       "      <td>58648</td>\n",
       "      <td>0.006245</td>\n",
       "    </tr>\n",
       "    <tr>\n",
       "      <th>4</th>\n",
       "      <td>58649</td>\n",
       "      <td>0.047903</td>\n",
       "    </tr>\n",
       "  </tbody>\n",
       "</table>\n",
       "</div>"
      ],
      "text/plain": [
       "      id  loan_status\n",
       "0  58645     0.998640\n",
       "1  58646     0.012747\n",
       "2  58647     0.558178\n",
       "3  58648     0.006245\n",
       "4  58649     0.047903"
      ]
     },
     "metadata": {},
     "output_type": "display_data"
    },
    {
     "name": "stdout",
     "output_type": "stream",
     "text": [
      "(39098, 2)\n"
     ]
    }
   ],
   "source": [
    "fin_pred = model_pred(lgbm_model[1], Xtest_mr)\n",
    "submission = pd.DataFrame([idtest_mr, fin_pred]).T\n",
    "submission.columns = ['id','loan_status']\n",
    "submission['id'] = submission['id'].astype(\"int\")\n",
    "display(submission.head())\n",
    "print(submission.shape)"
   ]
  },
  {
   "cell_type": "code",
   "execution_count": 24,
   "id": "a3a50436",
   "metadata": {
    "execution": {
     "iopub.execute_input": "2024-10-31T15:45:55.916489Z",
     "iopub.status.busy": "2024-10-31T15:45:55.916054Z",
     "iopub.status.idle": "2024-10-31T15:45:56.059649Z",
     "shell.execute_reply": "2024-10-31T15:45:56.058175Z"
    },
    "papermill": {
     "duration": 0.165418,
     "end_time": "2024-10-31T15:45:56.062905",
     "exception": false,
     "start_time": "2024-10-31T15:45:55.897487",
     "status": "completed"
    },
    "tags": []
   },
   "outputs": [],
   "source": [
    "submission.to_csv(\"/kaggle/working/submission.csv\", index=False)"
   ]
  },
  {
   "cell_type": "markdown",
   "id": "3b4112d9",
   "metadata": {
    "papermill": {
     "duration": 0.01679,
     "end_time": "2024-10-31T15:45:56.097783",
     "exception": false,
     "start_time": "2024-10-31T15:45:56.080993",
     "status": "completed"
    },
    "tags": []
   },
   "source": [
    "## 2. `lgbm11` + `lgbm21` + Logistic Regression"
   ]
  },
  {
   "cell_type": "code",
   "execution_count": 25,
   "id": "77ad1d8c",
   "metadata": {
    "execution": {
     "iopub.execute_input": "2024-10-31T15:45:56.135537Z",
     "iopub.status.busy": "2024-10-31T15:45:56.135093Z",
     "iopub.status.idle": "2024-10-31T15:46:48.767763Z",
     "shell.execute_reply": "2024-10-31T15:46:48.766702Z"
    },
    "papermill": {
     "duration": 52.6752,
     "end_time": "2024-10-31T15:46:48.790640",
     "exception": false,
     "start_time": "2024-10-31T15:45:56.115440",
     "status": "completed"
    },
    "tags": []
   },
   "outputs": [
    {
     "data": {
      "text/html": [
       "<div>\n",
       "<style scoped>\n",
       "    .dataframe tbody tr th:only-of-type {\n",
       "        vertical-align: middle;\n",
       "    }\n",
       "\n",
       "    .dataframe tbody tr th {\n",
       "        vertical-align: top;\n",
       "    }\n",
       "\n",
       "    .dataframe thead th {\n",
       "        text-align: right;\n",
       "    }\n",
       "</style>\n",
       "<table border=\"1\" class=\"dataframe\">\n",
       "  <thead>\n",
       "    <tr style=\"text-align: right;\">\n",
       "      <th></th>\n",
       "      <th>id</th>\n",
       "      <th>loan_status</th>\n",
       "    </tr>\n",
       "  </thead>\n",
       "  <tbody>\n",
       "    <tr>\n",
       "      <th>0</th>\n",
       "      <td>58645</td>\n",
       "      <td>0.969551</td>\n",
       "    </tr>\n",
       "    <tr>\n",
       "      <th>1</th>\n",
       "      <td>58646</td>\n",
       "      <td>0.027374</td>\n",
       "    </tr>\n",
       "    <tr>\n",
       "      <th>2</th>\n",
       "      <td>58647</td>\n",
       "      <td>0.666359</td>\n",
       "    </tr>\n",
       "    <tr>\n",
       "      <th>3</th>\n",
       "      <td>58648</td>\n",
       "      <td>0.026029</td>\n",
       "    </tr>\n",
       "    <tr>\n",
       "      <th>4</th>\n",
       "      <td>58649</td>\n",
       "      <td>0.034279</td>\n",
       "    </tr>\n",
       "  </tbody>\n",
       "</table>\n",
       "</div>"
      ],
      "text/plain": [
       "      id  loan_status\n",
       "0  58645     0.969551\n",
       "1  58646     0.027374\n",
       "2  58647     0.666359\n",
       "3  58648     0.026029\n",
       "4  58649     0.034279"
      ]
     },
     "metadata": {},
     "output_type": "display_data"
    },
    {
     "name": "stdout",
     "output_type": "stream",
     "text": [
      "(39098, 2)\n"
     ]
    }
   ],
   "source": [
    "Xpred = pd.DataFrame(y_pred[3:5]).T\n",
    "fin_pred21 = model_pred(lgbm_model[0], Xtest_un)\n",
    "fin_pred22 = model_pred(lgbm_model[1], Xtest_mr)\n",
    "Xfin = pd.DataFrame([fin_pred21, fin_pred22]).T\n",
    "lreg = LogisticRegression(random_state = random_state).fit(Xpred, ytest)\n",
    "submission2 = lreg.predict_proba(Xfin)[:,1]\n",
    "submission2 = pd.DataFrame([idtest_mr, submission2]).T\n",
    "submission2.columns = ['id','loan_status']\n",
    "submission2['id'] = submission2['id'].astype(\"int\")\n",
    "display(submission2.head())\n",
    "print(submission2.shape)"
   ]
  },
  {
   "cell_type": "code",
   "execution_count": 26,
   "id": "e215eb86",
   "metadata": {
    "execution": {
     "iopub.execute_input": "2024-10-31T15:46:48.827031Z",
     "iopub.status.busy": "2024-10-31T15:46:48.826569Z",
     "iopub.status.idle": "2024-10-31T15:46:48.959535Z",
     "shell.execute_reply": "2024-10-31T15:46:48.958325Z"
    },
    "papermill": {
     "duration": 0.154687,
     "end_time": "2024-10-31T15:46:48.962500",
     "exception": false,
     "start_time": "2024-10-31T15:46:48.807813",
     "status": "completed"
    },
    "tags": []
   },
   "outputs": [],
   "source": [
    "submission2.to_csv(\"/kaggle/working/submission2.csv\", index=False)"
   ]
  },
  {
   "cell_type": "markdown",
   "id": "1f48bac8",
   "metadata": {
    "papermill": {
     "duration": 0.016946,
     "end_time": "2024-10-31T15:46:48.997047",
     "exception": false,
     "start_time": "2024-10-31T15:46:48.980101",
     "status": "completed"
    },
    "tags": []
   },
   "source": [
    "## 3. `xgb31` + `lgbm21` + Logistic Regression"
   ]
  },
  {
   "cell_type": "code",
   "execution_count": 27,
   "id": "31faf8a8",
   "metadata": {
    "execution": {
     "iopub.execute_input": "2024-10-31T15:46:49.033988Z",
     "iopub.status.busy": "2024-10-31T15:46:49.033534Z",
     "iopub.status.idle": "2024-10-31T15:47:28.971700Z",
     "shell.execute_reply": "2024-10-31T15:47:28.970412Z"
    },
    "papermill": {
     "duration": 39.978734,
     "end_time": "2024-10-31T15:47:28.992962",
     "exception": false,
     "start_time": "2024-10-31T15:46:49.014228",
     "status": "completed"
    },
    "tags": []
   },
   "outputs": [
    {
     "data": {
      "text/html": [
       "<div>\n",
       "<style scoped>\n",
       "    .dataframe tbody tr th:only-of-type {\n",
       "        vertical-align: middle;\n",
       "    }\n",
       "\n",
       "    .dataframe tbody tr th {\n",
       "        vertical-align: top;\n",
       "    }\n",
       "\n",
       "    .dataframe thead th {\n",
       "        text-align: right;\n",
       "    }\n",
       "</style>\n",
       "<table border=\"1\" class=\"dataframe\">\n",
       "  <thead>\n",
       "    <tr style=\"text-align: right;\">\n",
       "      <th></th>\n",
       "      <th>id</th>\n",
       "      <th>loan_status</th>\n",
       "    </tr>\n",
       "  </thead>\n",
       "  <tbody>\n",
       "    <tr>\n",
       "      <th>0</th>\n",
       "      <td>58645</td>\n",
       "      <td>0.968722</td>\n",
       "    </tr>\n",
       "    <tr>\n",
       "      <th>1</th>\n",
       "      <td>58646</td>\n",
       "      <td>0.027126</td>\n",
       "    </tr>\n",
       "    <tr>\n",
       "      <th>2</th>\n",
       "      <td>58647</td>\n",
       "      <td>0.580362</td>\n",
       "    </tr>\n",
       "    <tr>\n",
       "      <th>3</th>\n",
       "      <td>58648</td>\n",
       "      <td>0.026097</td>\n",
       "    </tr>\n",
       "    <tr>\n",
       "      <th>4</th>\n",
       "      <td>58649</td>\n",
       "      <td>0.036714</td>\n",
       "    </tr>\n",
       "  </tbody>\n",
       "</table>\n",
       "</div>"
      ],
      "text/plain": [
       "      id  loan_status\n",
       "0  58645     0.968722\n",
       "1  58646     0.027126\n",
       "2  58647     0.580362\n",
       "3  58648     0.026097\n",
       "4  58649     0.036714"
      ]
     },
     "metadata": {},
     "output_type": "display_data"
    },
    {
     "name": "stdout",
     "output_type": "stream",
     "text": [
      "(39098, 2)\n"
     ]
    }
   ],
   "source": [
    "Xpred = pd.DataFrame([y_pred[2],y_pred[4]]).T\n",
    "fin_pred31 = model_pred(xgb_model[2], Xtest_md)\n",
    "fin_pred32 = model_pred(lgbm_model[1], Xtest_mr)\n",
    "Xfin = pd.DataFrame([fin_pred31, fin_pred32]).T\n",
    "lreg = LogisticRegression(random_state = random_state).fit(Xpred, ytest)\n",
    "submission3 = lreg.predict_proba(Xfin)[:,1]\n",
    "submission3 = pd.DataFrame([idtest_mr, submission3]).T\n",
    "submission3.columns = ['id','loan_status']\n",
    "submission3['id'] = submission3['id'].astype(\"int\")\n",
    "display(submission3.head())\n",
    "print(submission3.shape)"
   ]
  },
  {
   "cell_type": "code",
   "execution_count": 28,
   "id": "c9be3e02",
   "metadata": {
    "execution": {
     "iopub.execute_input": "2024-10-31T15:47:29.030374Z",
     "iopub.status.busy": "2024-10-31T15:47:29.029924Z",
     "iopub.status.idle": "2024-10-31T15:47:29.164174Z",
     "shell.execute_reply": "2024-10-31T15:47:29.163011Z"
    },
    "papermill": {
     "duration": 0.156743,
     "end_time": "2024-10-31T15:47:29.167274",
     "exception": false,
     "start_time": "2024-10-31T15:47:29.010531",
     "status": "completed"
    },
    "tags": []
   },
   "outputs": [],
   "source": [
    "submission3.to_csv(\"/kaggle/working/submission3.csv\", index=False)"
   ]
  },
  {
   "cell_type": "markdown",
   "id": "a9fe201e",
   "metadata": {
    "papermill": {
     "duration": 0.017971,
     "end_time": "2024-10-31T15:47:29.203177",
     "exception": false,
     "start_time": "2024-10-31T15:47:29.185206",
     "status": "completed"
    },
    "tags": []
   },
   "source": [
    "## 4. `xgb31` + `lgbm21` + Weight Optimization"
   ]
  },
  {
   "cell_type": "code",
   "execution_count": 29,
   "id": "66b5b9b8",
   "metadata": {
    "execution": {
     "iopub.execute_input": "2024-10-31T15:47:29.241284Z",
     "iopub.status.busy": "2024-10-31T15:47:29.240783Z",
     "iopub.status.idle": "2024-10-31T15:47:29.800132Z",
     "shell.execute_reply": "2024-10-31T15:47:29.798948Z"
    },
    "papermill": {
     "duration": 0.582061,
     "end_time": "2024-10-31T15:47:29.803645",
     "exception": false,
     "start_time": "2024-10-31T15:47:29.221584",
     "status": "completed"
    },
    "tags": []
   },
   "outputs": [
    {
     "data": {
      "text/html": [
       "<div>\n",
       "<style scoped>\n",
       "    .dataframe tbody tr th:only-of-type {\n",
       "        vertical-align: middle;\n",
       "    }\n",
       "\n",
       "    .dataframe tbody tr th {\n",
       "        vertical-align: top;\n",
       "    }\n",
       "\n",
       "    .dataframe thead th {\n",
       "        text-align: right;\n",
       "    }\n",
       "</style>\n",
       "<table border=\"1\" class=\"dataframe\">\n",
       "  <thead>\n",
       "    <tr style=\"text-align: right;\">\n",
       "      <th></th>\n",
       "      <th>id</th>\n",
       "      <th>loan_status</th>\n",
       "    </tr>\n",
       "  </thead>\n",
       "  <tbody>\n",
       "    <tr>\n",
       "      <th>0</th>\n",
       "      <td>58645</td>\n",
       "      <td>0.996701</td>\n",
       "    </tr>\n",
       "    <tr>\n",
       "      <th>1</th>\n",
       "      <td>58646</td>\n",
       "      <td>0.014332</td>\n",
       "    </tr>\n",
       "    <tr>\n",
       "      <th>2</th>\n",
       "      <td>58647</td>\n",
       "      <td>0.561394</td>\n",
       "    </tr>\n",
       "    <tr>\n",
       "      <th>3</th>\n",
       "      <td>58648</td>\n",
       "      <td>0.008813</td>\n",
       "    </tr>\n",
       "    <tr>\n",
       "      <th>4</th>\n",
       "      <td>58649</td>\n",
       "      <td>0.058578</td>\n",
       "    </tr>\n",
       "  </tbody>\n",
       "</table>\n",
       "</div>"
      ],
      "text/plain": [
       "      id  loan_status\n",
       "0  58645     0.996701\n",
       "1  58646     0.014332\n",
       "2  58647     0.561394\n",
       "3  58648     0.008813\n",
       "4  58649     0.058578"
      ]
     },
     "metadata": {},
     "output_type": "display_data"
    },
    {
     "name": "stdout",
     "output_type": "stream",
     "text": [
      "(39098, 2)\n"
     ]
    }
   ],
   "source": [
    "w = np.random.randn(Xpred.shape[1])\n",
    "def loss_func(w):\n",
    "    res = np.dot(Xpred, w) / np.sum(w)\n",
    "    return roc_auc_score(ytest, res)\n",
    "w = minimize(loss_func, w, tol=1e-12)['x']\n",
    "submission4 = np.matmul(Xfin, w)/np.sum(w)\n",
    "submission4 = pd.DataFrame([idtest_mr, submission4]).T\n",
    "submission4.columns = ['id','loan_status']\n",
    "submission4['id'] = submission4['id'].astype(\"int\")\n",
    "display(submission4.head())\n",
    "print(submission4.shape)"
   ]
  },
  {
   "cell_type": "code",
   "execution_count": 30,
   "id": "9c4f1fc9",
   "metadata": {
    "execution": {
     "iopub.execute_input": "2024-10-31T15:47:29.842200Z",
     "iopub.status.busy": "2024-10-31T15:47:29.841637Z",
     "iopub.status.idle": "2024-10-31T15:47:29.980028Z",
     "shell.execute_reply": "2024-10-31T15:47:29.978854Z"
    },
    "papermill": {
     "duration": 0.160788,
     "end_time": "2024-10-31T15:47:29.983248",
     "exception": false,
     "start_time": "2024-10-31T15:47:29.822460",
     "status": "completed"
    },
    "tags": []
   },
   "outputs": [],
   "source": [
    "submission4.to_csv(\"/kaggle/working/submission4.csv\", index=False)"
   ]
  },
  {
   "cell_type": "markdown",
   "id": "84ef3442",
   "metadata": {
    "papermill": {
     "duration": 0.017756,
     "end_time": "2024-10-31T15:47:30.019177",
     "exception": false,
     "start_time": "2024-10-31T15:47:30.001421",
     "status": "completed"
    },
    "tags": []
   },
   "source": [
    "## 5. `xgb11` + `lgbm21` + Weight Optimization"
   ]
  },
  {
   "cell_type": "code",
   "execution_count": 31,
   "id": "860ccc5b",
   "metadata": {
    "execution": {
     "iopub.execute_input": "2024-10-31T15:47:30.057578Z",
     "iopub.status.busy": "2024-10-31T15:47:30.057095Z",
     "iopub.status.idle": "2024-10-31T15:47:34.451005Z",
     "shell.execute_reply": "2024-10-31T15:47:34.449739Z"
    },
    "papermill": {
     "duration": 4.417524,
     "end_time": "2024-10-31T15:47:34.454711",
     "exception": false,
     "start_time": "2024-10-31T15:47:30.037187",
     "status": "completed"
    },
    "tags": []
   },
   "outputs": [
    {
     "data": {
      "text/html": [
       "<div>\n",
       "<style scoped>\n",
       "    .dataframe tbody tr th:only-of-type {\n",
       "        vertical-align: middle;\n",
       "    }\n",
       "\n",
       "    .dataframe tbody tr th {\n",
       "        vertical-align: top;\n",
       "    }\n",
       "\n",
       "    .dataframe thead th {\n",
       "        text-align: right;\n",
       "    }\n",
       "</style>\n",
       "<table border=\"1\" class=\"dataframe\">\n",
       "  <thead>\n",
       "    <tr style=\"text-align: right;\">\n",
       "      <th></th>\n",
       "      <th>id</th>\n",
       "      <th>loan_status</th>\n",
       "    </tr>\n",
       "  </thead>\n",
       "  <tbody>\n",
       "    <tr>\n",
       "      <th>0</th>\n",
       "      <td>58645</td>\n",
       "      <td>0.998072</td>\n",
       "    </tr>\n",
       "    <tr>\n",
       "      <th>1</th>\n",
       "      <td>58646</td>\n",
       "      <td>0.016451</td>\n",
       "    </tr>\n",
       "    <tr>\n",
       "      <th>2</th>\n",
       "      <td>58647</td>\n",
       "      <td>0.597691</td>\n",
       "    </tr>\n",
       "    <tr>\n",
       "      <th>3</th>\n",
       "      <td>58648</td>\n",
       "      <td>0.006769</td>\n",
       "    </tr>\n",
       "    <tr>\n",
       "      <th>4</th>\n",
       "      <td>58649</td>\n",
       "      <td>0.050297</td>\n",
       "    </tr>\n",
       "  </tbody>\n",
       "</table>\n",
       "</div>"
      ],
      "text/plain": [
       "      id  loan_status\n",
       "0  58645     0.998072\n",
       "1  58646     0.016451\n",
       "2  58647     0.597691\n",
       "3  58648     0.006769\n",
       "4  58649     0.050297"
      ]
     },
     "metadata": {},
     "output_type": "display_data"
    },
    {
     "name": "stdout",
     "output_type": "stream",
     "text": [
      "(39098, 2)\n"
     ]
    }
   ],
   "source": [
    "Xpred = pd.DataFrame([y_pred[0], y_pred[4]]).T\n",
    "w = np.random.randn(Xpred.shape[1])\n",
    "def loss_func(w):\n",
    "    res = np.dot(Xpred, w) / np.sum(w)\n",
    "    return roc_auc_score(ytest, res)\n",
    "w = minimize(loss_func, w, tol=1e-12)['x']\n",
    "fin_pred41 = model_pred(xgb_model[0], Xtest_un)\n",
    "Xfin = pd.DataFrame([fin_pred41, fin_pred22]).T\n",
    "submission5 = np.matmul(Xfin, w)/np.sum(w)\n",
    "submission5 = pd.DataFrame([idtest_mr, submission5]).T\n",
    "submission5.columns = ['id','loan_status']\n",
    "submission5['id'] = submission5['id'].astype(\"int\")\n",
    "display(submission5.head())\n",
    "print(submission5.shape)"
   ]
  },
  {
   "cell_type": "code",
   "execution_count": 32,
   "id": "26402812",
   "metadata": {
    "execution": {
     "iopub.execute_input": "2024-10-31T15:47:34.493524Z",
     "iopub.status.busy": "2024-10-31T15:47:34.493111Z",
     "iopub.status.idle": "2024-10-31T15:47:34.629460Z",
     "shell.execute_reply": "2024-10-31T15:47:34.628465Z"
    },
    "papermill": {
     "duration": 0.159394,
     "end_time": "2024-10-31T15:47:34.632330",
     "exception": false,
     "start_time": "2024-10-31T15:47:34.472936",
     "status": "completed"
    },
    "tags": []
   },
   "outputs": [],
   "source": [
    "submission5.to_csv(\"/kaggle/working/submission5.csv\", index=False)"
   ]
  },
  {
   "cell_type": "markdown",
   "id": "ce08f46a",
   "metadata": {
    "papermill": {
     "duration": 0.017832,
     "end_time": "2024-10-31T15:47:34.669264",
     "exception": false,
     "start_time": "2024-10-31T15:47:34.651432",
     "status": "completed"
    },
    "tags": []
   },
   "source": [
    "# Final Variance Check (How Far Away Submissions are from 0.5)"
   ]
  },
  {
   "cell_type": "code",
   "execution_count": 33,
   "id": "192e5c05",
   "metadata": {
    "execution": {
     "iopub.execute_input": "2024-10-31T15:47:34.707681Z",
     "iopub.status.busy": "2024-10-31T15:47:34.707275Z",
     "iopub.status.idle": "2024-10-31T15:47:34.718594Z",
     "shell.execute_reply": "2024-10-31T15:47:34.717437Z"
    },
    "papermill": {
     "duration": 0.034196,
     "end_time": "2024-10-31T15:47:34.721567",
     "exception": false,
     "start_time": "2024-10-31T15:47:34.687371",
     "status": "completed"
    },
    "tags": []
   },
   "outputs": [
    {
     "name": "stdout",
     "output_type": "stream",
     "text": [
      "Submission 1: \n",
      "8342.152270201314\n",
      "Submission 2: \n",
      "8273.392078564753\n",
      "Submission 3: \n",
      "8263.092219130616\n",
      "Submission 4: \n",
      "8240.49124627799\n",
      "Submission 5: \n",
      "8308.605659901652\n"
     ]
    }
   ],
   "source": [
    "for i, sub in enumerate([submission,submission2,submission3,submission4,submission5]):\n",
    "    print(\"Submission \" + str(i+1) + \": \")\n",
    "    print(((sub[\"loan_status\"]-0.5)**2).sum())"
   ]
  }
 ],
 "metadata": {
  "kaggle": {
   "accelerator": "none",
   "dataSources": [
    {
     "databundleVersionId": 9709193,
     "sourceId": 84894,
     "sourceType": "competition"
    },
    {
     "sourceId": 204145199,
     "sourceType": "kernelVersion"
    },
    {
     "sourceId": 204461211,
     "sourceType": "kernelVersion"
    },
    {
     "sourceId": 204465099,
     "sourceType": "kernelVersion"
    }
   ],
   "dockerImageVersionId": 30786,
   "isGpuEnabled": false,
   "isInternetEnabled": true,
   "language": "python",
   "sourceType": "notebook"
  },
  "kernelspec": {
   "display_name": "Python 3",
   "language": "python",
   "name": "python3"
  },
  "language_info": {
   "codemirror_mode": {
    "name": "ipython",
    "version": 3
   },
   "file_extension": ".py",
   "mimetype": "text/x-python",
   "name": "python",
   "nbconvert_exporter": "python",
   "pygments_lexer": "ipython3",
   "version": "3.11.3"
  },
  "papermill": {
   "default_parameters": {},
   "duration": 203.709969,
   "end_time": "2024-10-31T15:47:35.665507",
   "environment_variables": {},
   "exception": null,
   "input_path": "__notebook__.ipynb",
   "output_path": "__notebook__.ipynb",
   "parameters": {},
   "start_time": "2024-10-31T15:44:11.955538",
   "version": "2.6.0"
  }
 },
 "nbformat": 4,
 "nbformat_minor": 5
}
