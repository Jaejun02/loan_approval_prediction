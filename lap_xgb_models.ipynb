{
 "cells": [
  {
   "cell_type": "markdown",
   "id": "bfe6dcf8",
   "metadata": {
    "papermill": {
     "duration": 0.011606,
     "end_time": "2024-10-31T08:32:30.745557",
     "exception": false,
     "start_time": "2024-10-31T08:32:30.733951",
     "status": "completed"
    },
    "tags": []
   },
   "source": [
    "# Import Libraries / Functions"
   ]
  },
  {
   "cell_type": "code",
   "execution_count": 1,
   "id": "9b02adc5",
   "metadata": {
    "execution": {
     "iopub.execute_input": "2024-10-31T08:32:30.768467Z",
     "iopub.status.busy": "2024-10-31T08:32:30.767308Z",
     "iopub.status.idle": "2024-10-31T08:32:33.333956Z",
     "shell.execute_reply": "2024-10-31T08:32:33.332879Z"
    },
    "papermill": {
     "duration": 2.581238,
     "end_time": "2024-10-31T08:32:33.337147",
     "exception": false,
     "start_time": "2024-10-31T08:32:30.755909",
     "status": "completed"
    },
    "tags": []
   },
   "outputs": [],
   "source": [
    "import os\n",
    "import logging\n",
    "import sys\n",
    "import numpy as np\n",
    "import pandas as pd\n",
    "import warnings\n",
    "warnings.filterwarnings('ignore')\n",
    "import matplotlib.pyplot as plt\n",
    "import seaborn as sns\n",
    "from sklearn.preprocessing import OneHotEncoder\n",
    "from sklearn.preprocessing import OrdinalEncoder\n",
    "from sklearn.linear_model import LinearRegression\n",
    "from sklearn.preprocessing import StandardScaler\n",
    "from sklearn.preprocessing import MinMaxScaler\n",
    "from xgboost import XGBClassifier\n",
    "from sklearn.model_selection import StratifiedKFold\n",
    "from sklearn.metrics import roc_auc_score\n",
    "import optuna\n",
    "from optuna.samplers import TPESampler\n",
    "\n",
    "random_state = 68"
   ]
  },
  {
   "cell_type": "markdown",
   "id": "0731ae55",
   "metadata": {},
   "source": [
    "`cat_enc`: Encodes categorical variables using either One Hot Encoding or Ordinal Encoding.\n",
    "\n",
    "`lir_impute`: Uses Linear Regression to impute missing values.\n",
    "\n",
    "`create_var`: Creates new features that are hand-made.\n",
    "\n",
    "`feature_engineering`: Combines above 3 functions to perform feature engineering on dataset.\n",
    "\n",
    "\n",
    "Creating a seperate function for feature engineering is important as this feature engineering includes imputation of data, and therefore, it should be done after cv is splitted to reduce contamination of cv data."
   ]
  },
  {
   "cell_type": "code",
   "execution_count": 5,
   "id": "8f12e196",
   "metadata": {
    "_kg_hide-input": true,
    "execution": {
     "iopub.execute_input": "2024-10-31T08:32:34.088056Z",
     "iopub.status.busy": "2024-10-31T08:32:34.087590Z",
     "iopub.status.idle": "2024-10-31T08:32:34.122166Z",
     "shell.execute_reply": "2024-10-31T08:32:34.121129Z"
    },
    "papermill": {
     "duration": 0.048709,
     "end_time": "2024-10-31T08:32:34.124882",
     "exception": false,
     "start_time": "2024-10-31T08:32:34.076173",
     "status": "completed"
    },
    "tags": []
   },
   "outputs": [],
   "source": [
    "def cat_enc(df, ohe, ordi, cats):\n",
    "    other_var = [\"person_age\", \"person_income\", \"person_emp_length\", \"loan_amnt\", \"loan_int_rate\", \"loan_percent_income\", \n",
    "                 \"cb_person_cred_hist_length\", \"Type\", \"loan_status\"]\n",
    "    df_cat1 = pd.DataFrame(ohe.transform(df[cats[0]]), columns = [x for xs in ohe.categories_ for x in xs]).reset_index(drop=True)\n",
    "    df_cat2 = pd.DataFrame(ordi.transform(df[cats[1]]), columns = cats[1]).reset_index(drop=True)\n",
    "    df_cat = pd.concat([df_cat1, df_cat2], axis=1)\n",
    "    df_enc = pd.concat([df[other_var].reset_index(drop=True),df_cat], axis=1)\n",
    "    return df_enc\n",
    "\n",
    "def lir_impute(lr, df_nmv, df_mv, features):\n",
    "    df_mv['loan_int_rate'] = lr.predict(df_mv[features])\n",
    "    return pd.concat([df_nmv, df_mv]).reset_index(drop=True)\n",
    "\n",
    "def create_var(data, aita, aite):\n",
    "    df = data.copy()\n",
    "    df['loan_int_rate'] = df['loan_int_rate']/100\n",
    "    df['loan_int_rate_month'] = (1 + df['loan_int_rate'])**(1/12) - 1\n",
    "    k =  1 + df['loan_int_rate_month']\n",
    "    P = df['person_income']*df['loan_percent_income']/12\n",
    "    L = df['loan_amnt']\n",
    "    tmp = (np.log(P/(P-L*(k-1)))/np.log(k)).replace([np.inf,-np.inf], np.nan)\n",
    "    df['est_payback_time_in_month'] = tmp.fillna(-999)\n",
    "    df['avg_income_by_age'] = [aita[x] if x in aita.index else aita[aita.index[abs(aita.index - x).argmin()]] for x in df[\"person_age\"]]\n",
    "    df['avg_income_by_emp'] = [aite[x] if x in aite.index else aite[aite.index[abs(aite.index - x).argmin()]] for x in df[\"person_age\"]]\n",
    "    df['income_diff_avg_age'] = df['person_income'] - df['avg_income_by_age']\n",
    "    df['income_diff_avg_emp'] = df['person_income'] - df['avg_income_by_emp']\n",
    "    df['risk_flag'] = ((df['Y'] == 1) & (df['loan_grade'].replace([\"D\",\"E\",\"F\",\"G\"], \"low\") == \"low\")).astype(\"int\")\n",
    "    return df\n",
    "    \n",
    "def feature_engineering(data, data_cv, impute=False, min_max = False):\n",
    "    df = data.copy()\n",
    "    df_cv = data_cv.copy()\n",
    "    \n",
    "    # Step 1: Encoding Categorical Variables\n",
    "    ohe = OneHotEncoder(handle_unknown='ignore', sparse_output=False)\n",
    "    ordi = OrdinalEncoder(handle_unknown='error')\n",
    "    cats = [['person_home_ownership','loan_intent','cb_person_default_on_file'], ['loan_grade']]\n",
    "    ohe.fit(df[cats[0]])\n",
    "    ordi.fit(df[cats[1]])\n",
    "    df_enc = cat_enc(df, ohe, ordi, cats)\n",
    "    df_cv_enc = cat_enc(df_cv, ohe, ordi, cats)\n",
    "    \n",
    "    if impute:\n",
    "        # Step 2.1: Imputing Missing Values - `loan_int_rate`\n",
    "        df_mv = df_enc[(df_enc.isna()[\"loan_int_rate\"])]\n",
    "        df_nmv = df_enc[~(df_enc.isna()[\"loan_int_rate\"])]\n",
    "        df_cv_mv = df_cv_enc[(df_cv_enc.isna()[\"loan_int_rate\"])]\n",
    "        df_cv_nmv = df_cv_enc[~(df_cv_enc.isna()[\"loan_int_rate\"])]\n",
    "        features_infer = df_nmv.columns[~((df_nmv.columns == 'person_emp_length') | (df_nmv.columns == 'loan_int_rate') | (df_nmv.columns == 'loan_status') | (df_nmv.columns == 'Type'))]\n",
    "        df_nmv_train, df_nmv_infer = df_nmv[features_infer], df_nmv['loan_int_rate']\n",
    "        lr = LinearRegression().fit(df_nmv_train, df_nmv_infer)\n",
    "        df_enc = lir_impute(lr, df_nmv, df_mv, features_infer)\n",
    "        df_cv_enc = lir_impute(lr, df_cv_nmv, df_cv_mv, features_infer)\n",
    "        \n",
    "        # Step 2.2: Imputing Missing Values - `person_emp_length`\n",
    "        df_mv = df_enc[(df_enc.isna()[\"person_emp_length\"])]\n",
    "        df_nmv = df_enc[~(df_enc.isna()[\"person_emp_length\"])]\n",
    "        diff_scores = [2.205876158220027e-52, 2.8034878798264012e-36, 7.216755273392921e-12]\n",
    "        pel_u = []\n",
    "        for col in ['person_income', 'loan_amnt', 'loan_percent_income']:\n",
    "            mean = np.mean(df_mv[col])\n",
    "            std = np.std(df_mv[col])\n",
    "            d = df_nmv[\"person_emp_length\"][(df_nmv[col] > mean-3*std) & (df_nmv[col] < mean+3*std)]\n",
    "            pel_u.append(np.mean(d))\n",
    "        pel_weights = np.log(1/np.array(diff_scores)) # Stronger weights for variables with higher confidence + Softened\n",
    "        pel_weights = pel_weights / np.sum(pel_weights)\n",
    "        pel_mean = np.sum(pel_u*pel_weights)\n",
    "        df_enc['person_emp_length'] = df_enc['person_emp_length'].fillna(pel_mean)\n",
    "        df_cv_enc['person_emp_length'] = df_cv_enc['person_emp_length'].fillna(pel_mean)\n",
    "    \n",
    "    # Step 3: Creating New Variables\n",
    "    aita = df_enc.groupby(\"person_age\")[\"person_income\"].mean()\n",
    "    aite = df_enc.groupby(\"person_emp_length\")[\"person_income\"].mean()\n",
    "    df_fe = create_var(df_enc, aita, aite)\n",
    "    df_cv_fe = create_var(df_cv_enc, aita, aite)\n",
    "    \n",
    "    # Step 4: Scale Normalizing with Scaler\n",
    "    train_cols = df_fe.columns[[x not in ['loan_status'] for x in df_fe.columns]]\n",
    "    Xdf_fe = df_fe[train_cols]\n",
    "    ydf_fe = df_fe['loan_status']\n",
    "    Xdf_cv_fe = df_cv_fe[train_cols]\n",
    "    ydf_cv_fe = df_cv_fe['loan_status']\n",
    "    if min_max:\n",
    "        scaler = MinMaxScaler().fit(Xdf_fe)\n",
    "    else:\n",
    "        scaler = StandardScaler().fit(Xdf_fe)\n",
    "    cols = Xdf_fe.columns\n",
    "    Xdf_fe = pd.DataFrame(scaler.transform(Xdf_fe), columns = cols)\n",
    "    Xdf_cv_fe = pd.DataFrame(scaler.transform(Xdf_cv_fe), columns = cols)\n",
    "    \n",
    "    return [Xdf_fe, ydf_fe, Xdf_cv_fe, ydf_cv_fe]"
   ]
  },
  {
   "cell_type": "code",
   "execution_count": null,
   "id": "71403d2f",
   "metadata": {},
   "outputs": [],
   "source": [
    "# Set this path to the directory of your data file.\n",
    "path = \"/kaggle/input/loan-approval-prediction-pre/\""
   ]
  },
  {
   "cell_type": "markdown",
   "id": "9605c35a",
   "metadata": {
    "papermill": {
     "duration": 0.009132,
     "end_time": "2024-10-31T08:32:34.143938",
     "exception": false,
     "start_time": "2024-10-31T08:32:34.134806",
     "status": "completed"
    },
    "tags": []
   },
   "source": [
    "# Models - XGB"
   ]
  },
  {
   "cell_type": "markdown",
   "id": "84706c7d",
   "metadata": {
    "papermill": {
     "duration": 0.009048,
     "end_time": "2024-10-31T08:32:34.162465",
     "exception": false,
     "start_time": "2024-10-31T08:32:34.153417",
     "status": "completed"
    },
    "tags": []
   },
   "source": [
    "## 1. xgb11\n",
    "* Data: Train (Unmerged)\n",
    "* Model: XGB"
   ]
  },
  {
   "cell_type": "code",
   "execution_count": 6,
   "id": "4fac7684",
   "metadata": {
    "execution": {
     "iopub.execute_input": "2024-10-31T08:32:34.183233Z",
     "iopub.status.busy": "2024-10-31T08:32:34.182749Z",
     "iopub.status.idle": "2024-10-31T08:32:34.374744Z",
     "shell.execute_reply": "2024-10-31T08:32:34.373503Z"
    },
    "papermill": {
     "duration": 0.205998,
     "end_time": "2024-10-31T08:32:34.377792",
     "exception": false,
     "start_time": "2024-10-31T08:32:34.171794",
     "status": "completed"
    },
    "tags": []
   },
   "outputs": [],
   "source": [
    "X = pd.read_csv(path + \"/trains.csv\")\n",
    "y = X['loan_status']\n",
    "opt_xgb11 = False\n",
    "xgb11_exist = True\n",
    "\n",
    "if xgb11_exist:\n",
    "    os.system('cp /kaggle/input/xgboptuna/xgb11.db /kaggle/working/xgb11.db')\n",
    "\n",
    "def objective(trial):\n",
    "    params = {\n",
    "        'max_depth': trial.suggest_int('max_depth',2,15) ,\n",
    "        'subsample': trial.suggest_float('subsample', 0.5,1,step=0.05),\n",
    "        'n_estimators': 10000,\n",
    "        'learning_rate': trial.suggest_float('learning_rate', 0.001,1,log=True),\n",
    "        'reg_lambda': trial.suggest_float('reg_lambda', 1, 50, log=True),\n",
    "        'reg_alpha': trial.suggest_int('reg_alpha', 1, 50, log=True),\n",
    "        'min_child_weight': trial.suggest_int('min_child_weight', 1, 70),\n",
    "        'colsample_bytree': trial.suggest_float('colsample_bytree', 0.5, 1, step=0.1),\n",
    "    }\n",
    "    model = XGBClassifier(random_state = random_state, **params)\n",
    "    cv = StratifiedKFold(5, shuffle=True, random_state=random_state)\n",
    "    cv_splits = cv.split(X, y)\n",
    "    scores = []\n",
    "    for train_idx, val_idx in cv_splits:\n",
    "        Xtrain, Xval = X.loc[train_idx], X.loc[val_idx] # y will be separated later, as feature engineering mix the indices greatly.\n",
    "        Xtrain, ytrain, Xval, yval = feature_engineering(Xtrain, Xval)\n",
    "        model.fit(Xtrain, ytrain, eval_set=[(Xval, yval)], early_stopping_rounds = 200, verbose=False, eval_metric = \"auc\")\n",
    "        pred = model.predict_proba(Xval)[:,1]\n",
    "        score = roc_auc_score(yval, pred)\n",
    "        scores.append(score)\n",
    "    return np.mean(scores)\n",
    "sqlite_db = \"sqlite:///xgb11.db\"\n",
    "study_name = \"unmerged_ss\"\n",
    "if opt_xgb11:\n",
    "    study = optuna.create_study(storage = sqlite_db, study_name = study_name, \n",
    "                               sampler = TPESampler(n_startup_trials=35, multivariate=True, seed=random_state),\n",
    "                               direction=\"maximize\", load_if_exists=True)\n",
    "    study.optimize(objective, n_trials = 10, gc_after_trial=True)"
   ]
  },
  {
   "cell_type": "code",
   "execution_count": 7,
   "id": "1cf51711",
   "metadata": {
    "execution": {
     "iopub.execute_input": "2024-10-31T08:32:34.399893Z",
     "iopub.status.busy": "2024-10-31T08:32:34.399436Z",
     "iopub.status.idle": "2024-10-31T08:32:36.185796Z",
     "shell.execute_reply": "2024-10-31T08:32:36.184642Z"
    },
    "papermill": {
     "duration": 1.801497,
     "end_time": "2024-10-31T08:32:36.189595",
     "exception": false,
     "start_time": "2024-10-31T08:32:34.388098",
     "status": "completed"
    },
    "tags": []
   },
   "outputs": [
    {
     "name": "stdout",
     "output_type": "stream",
     "text": [
      "Best Parameters and Score: \n"
     ]
    },
    {
     "data": {
      "text/plain": [
       "value                  0.956410\n",
       "colsample_bytree       0.900000\n",
       "learning_rate          0.119795\n",
       "max_depth              6.000000\n",
       "min_child_weight      13.000000\n",
       "n_estimators        8500.000000\n",
       "reg_alpha              2.000000\n",
       "reg_lambda            57.000000\n",
       "subsample              1.000000\n",
       "Name: 73, dtype: float64"
      ]
     },
     "metadata": {},
     "output_type": "display_data"
    },
    {
     "name": "stdout",
     "output_type": "stream",
     "text": [
      "Best CV Iterations: \n",
      "[472, 562, 548, 522, 508]\n"
     ]
    }
   ],
   "source": [
    "# Analyze Store (Best) Study Outcome\n",
    "if opt_xgb11:\n",
    "    xgb11_out = study.trials_dataframe().sort_values(by=\"value\", ascending=False)\n",
    "    xgb11_out.columns = [x[7:] if x[:7] == \"params_\" else x for x in xgb11_out.columns]\n",
    "    focus_col = ['value', 'colsample_bytree', 'learning_rate', 'max_depth', 'min_child_weight',\n",
    "                 'n_estimators', 'reg_alpha', 'reg_lambda', 'subsample']\n",
    "    xgb11_out = xgb11_out[focus_col]\n",
    "    display(xgb11_out.head())\n",
    "if xgb11_exist:\n",
    "    xgb11_out = optuna.load_study(study_name = study_name, storage=sqlite_db).trials_dataframe().sort_values(by=\"value\", ascending=False)\n",
    "    xgb11_out.columns = [x[7:] if x[:7] == \"params_\" else x for x in xgb11_out.columns]\n",
    "    focus_col = ['value', 'colsample_bytree', 'learning_rate', 'max_depth', 'min_child_weight',\n",
    "                 'n_estimators', 'reg_alpha', 'reg_lambda', 'subsample']\n",
    "    xgb11_out = xgb11_out[focus_col]\n",
    "    best_param = xgb11_out.iloc[0,:]\n",
    "    xgb11_params = {\n",
    "        'max_depth': best_param['max_depth'].astype(\"int\"),\n",
    "        'subsample': best_param['subsample'],\n",
    "        'n_estimators': best_param['n_estimators'].astype(\"int\"),\n",
    "        'learning_rate': best_param['learning_rate'],\n",
    "        'reg_lambda': best_param['reg_lambda'],\n",
    "        'reg_alpha': best_param['reg_alpha'],\n",
    "        'min_child_weight': best_param['min_child_weight'].astype(\"int\"),\n",
    "        'colsample_bytree': best_param['colsample_bytree'],\n",
    "    }\n",
    "    print(\"Best Parameters and Score: \")\n",
    "    display(best_param)\n",
    "    print(\"Best CV Iterations: \")\n",
    "    xgb11_iter = [472, 562, 548, 522, 508]\n",
    "    print(xgb11_iter)"
   ]
  },
  {
   "cell_type": "markdown",
   "id": "187e38cb",
   "metadata": {
    "papermill": {
     "duration": 0.010427,
     "end_time": "2024-10-31T08:32:36.210500",
     "exception": false,
     "start_time": "2024-10-31T08:32:36.200073",
     "status": "completed"
    },
    "tags": []
   },
   "source": [
    "## 2. xgb21\n",
    "* Data: Train (Merged / Dropped)\n",
    "* Model: XGB"
   ]
  },
  {
   "cell_type": "code",
   "execution_count": 8,
   "id": "cdae3ef6",
   "metadata": {
    "execution": {
     "iopub.execute_input": "2024-10-31T08:32:36.232986Z",
     "iopub.status.busy": "2024-10-31T08:32:36.232275Z",
     "iopub.status.idle": "2024-10-31T08:32:36.516477Z",
     "shell.execute_reply": "2024-10-31T08:32:36.514178Z"
    },
    "papermill": {
     "duration": 0.300046,
     "end_time": "2024-10-31T08:32:36.520572",
     "exception": false,
     "start_time": "2024-10-31T08:32:36.220526",
     "status": "completed"
    },
    "tags": []
   },
   "outputs": [],
   "source": [
    "X = pd.read_csv(path + \"/merge_rmvd.csv\")\n",
    "y = X['loan_status']\n",
    "opt_xgb21 = False\n",
    "xgb21_exist = True\n",
    "\n",
    "if xgb21_exist: # This is for kaggle (hyperparameter tuning had to be broken down as there weren't enough computation resources)\n",
    "    os.system('cp /kaggle/input/xgboptuna/xgb21.db /kaggle/working/xgb21.db')\n",
    "\n",
    "def objective(trial):\n",
    "    params = {\n",
    "        'max_depth': trial.suggest_int('max_depth',2,15) ,\n",
    "        'subsample': trial.suggest_float('subsample', 0.5,1,step=0.05),\n",
    "        'n_estimators': trial.suggest_int('n_estimators', 100, 10000, step=100),\n",
    "        'learning_rate': trial.suggest_float('learning_rate', 0.001,1,log=True),\n",
    "        'reg_lambda': trial.suggest_int('reg_lambda', 5, 100),\n",
    "        'reg_alpha': trial.suggest_int('reg_alpha', 1, 50),\n",
    "        'min_child_weight': trial.suggest_int('min_child_weight', 1, 70),\n",
    "        'colsample_bytree': trial.suggest_float('colsample_bytree', 0.5, 1, step=0.1),\n",
    "    }\n",
    "    model = XGBClassifier(random_state = random_state, **params)\n",
    "    cv = StratifiedKFold(5, shuffle=True, random_state=random_state)\n",
    "    cv_splits = cv.split(X, y)\n",
    "    scores = []\n",
    "    for train_idx, val_idx in cv_splits:\n",
    "        Xtrain, Xval = X.loc[train_idx], X.loc[val_idx] # y will be separated later, as feature engineering mix the indices greatly.\n",
    "        Xtrain, ytrain, Xval, yval = feature_engineering(Xtrain, Xval)\n",
    "        model.fit(Xtrain, ytrain, eval_set=[(Xval, yval)], early_stopping_rounds = 200, verbose=False, eval_metric = \"auc\")\n",
    "        pred = model.predict_proba(Xval)[:,1]\n",
    "        score = roc_auc_score(yval, pred)\n",
    "        scores.append(score)\n",
    "    return np.mean(scores)\n",
    "sqlite_db = \"sqlite:///xgb21.db\"\n",
    "study_name = \"mergermvd_ss\"\n",
    "if opt_xgb21:\n",
    "    study = optuna.create_study(storage = sqlite_db, study_name = study_name, \n",
    "                               sampler = TPESampler(n_startup_trials=35, multivariate=True, seed=random_state),\n",
    "                               direction=\"maximize\", load_if_exists=True)\n",
    "    study.optimize(objective, n_trials = 100, gc_after_trial=True)"
   ]
  },
  {
   "cell_type": "code",
   "execution_count": 9,
   "id": "e1ccb572",
   "metadata": {
    "execution": {
     "iopub.execute_input": "2024-10-31T08:32:36.544220Z",
     "iopub.status.busy": "2024-10-31T08:32:36.543709Z",
     "iopub.status.idle": "2024-10-31T08:32:36.897322Z",
     "shell.execute_reply": "2024-10-31T08:32:36.896084Z"
    },
    "papermill": {
     "duration": 0.368034,
     "end_time": "2024-10-31T08:32:36.899855",
     "exception": false,
     "start_time": "2024-10-31T08:32:36.531821",
     "status": "completed"
    },
    "tags": []
   },
   "outputs": [
    {
     "name": "stdout",
     "output_type": "stream",
     "text": [
      "The Best Barameters and Score: \n"
     ]
    },
    {
     "data": {
      "text/plain": [
       "value                  0.959692\n",
       "colsample_bytree       0.900000\n",
       "learning_rate          0.070143\n",
       "max_depth              6.000000\n",
       "min_child_weight      19.000000\n",
       "n_estimators        6400.000000\n",
       "reg_alpha              1.000000\n",
       "reg_lambda            12.000000\n",
       "subsample              1.000000\n",
       "Name: 83, dtype: float64"
      ]
     },
     "metadata": {},
     "output_type": "display_data"
    },
    {
     "name": "stdout",
     "output_type": "stream",
     "text": [
      "Best CV Iterations: \n",
      "[1028, 856, 651, 926, 825]\n"
     ]
    }
   ],
   "source": [
    "# Analyze Store (Best) Study Outcome\n",
    "if opt_xgb21:\n",
    "    xgb21_out = study.trials_dataframe().sort_values(by=\"value\", ascending=False)\n",
    "    xgb21_out.columns = [x[7:] if x[:7] == \"params_\" else x for x in xgb21_out.columns]\n",
    "    focus_col = ['value', 'colsample_bytree', 'learning_rate', 'max_depth', 'min_child_weight',\n",
    "                 'n_estimators', 'reg_alpha', 'reg_lambda', 'subsample']\n",
    "    xgb21_out = xgb21_out[focus_col]\n",
    "    display(xgb21_out.head())\n",
    "if xgb21_exist:\n",
    "    xgb21_out = optuna.load_study(study_name = study_name, storage=sqlite_db).trials_dataframe().sort_values(by=\"value\", ascending=False)\n",
    "    xgb21_out.columns = [x[7:] if x[:7] == \"params_\" else x for x in xgb21_out.columns]\n",
    "    focus_col = ['value', 'colsample_bytree', 'learning_rate', 'max_depth', 'min_child_weight',\n",
    "                 'n_estimators', 'reg_alpha', 'reg_lambda', 'subsample']\n",
    "    xgb21_out = xgb21_out[focus_col]\n",
    "    best_param = xgb21_out.iloc[0,:]\n",
    "    xgb21_params = {\n",
    "        'max_depth': best_param['max_depth'].astype(\"int\"),\n",
    "        'subsample': best_param['subsample'],\n",
    "        'n_estimators': best_param['n_estimators'].astype(\"int\"),\n",
    "        'learning_rate': best_param['learning_rate'],\n",
    "        'reg_lambda': best_param['reg_lambda'],\n",
    "        'reg_alpha': best_param['reg_alpha'],\n",
    "        'min_child_weight': best_param['min_child_weight'].astype(\"int\"),\n",
    "        'colsample_bytree': best_param['colsample_bytree'],\n",
    "    }\n",
    "    print(\"The Best Barameters and Score: \")\n",
    "    display(best_param)\n",
    "    print(\"Best CV Iterations: \")\n",
    "    xgb21_iter = [1028, 856, 651, 926, 825]\n",
    "    print(xgb21_iter)"
   ]
  },
  {
   "cell_type": "markdown",
   "id": "f9647e94",
   "metadata": {
    "papermill": {
     "duration": 0.010219,
     "end_time": "2024-10-31T08:32:36.920504",
     "exception": false,
     "start_time": "2024-10-31T08:32:36.910285",
     "status": "completed"
    },
    "tags": []
   },
   "source": [
    "## 3. xgb31\n",
    "* Data: Train (Merged / Imputed)\n",
    "* Model: XGB"
   ]
  },
  {
   "cell_type": "code",
   "execution_count": 10,
   "id": "5f7e2833",
   "metadata": {
    "execution": {
     "iopub.execute_input": "2024-10-31T08:32:36.944060Z",
     "iopub.status.busy": "2024-10-31T08:32:36.943033Z",
     "iopub.status.idle": "2024-10-31T08:32:37.181213Z",
     "shell.execute_reply": "2024-10-31T08:32:37.179987Z"
    },
    "papermill": {
     "duration": 0.253498,
     "end_time": "2024-10-31T08:32:37.184261",
     "exception": false,
     "start_time": "2024-10-31T08:32:36.930763",
     "status": "completed"
    },
    "tags": []
   },
   "outputs": [],
   "source": [
    "X = pd.read_csv(path + \"/merged.csv\")\n",
    "y = X['loan_status']\n",
    "opt_xgb31 = False\n",
    "xgb31_exist = True\n",
    "\n",
    "if xgb31_exist: # This is for kaggle (hyperparameter tuning had to be broken down as there weren't enough computation resources)\n",
    "    os.system('cp /kaggle/input/xgboptuna/xgb31.db /kaggle/working/xgb31.db')\n",
    "\n",
    "def objective(trial):\n",
    "    params = {\n",
    "        'max_depth': trial.suggest_int('max_depth',2,15) ,\n",
    "        'subsample': trial.suggest_float('subsample', 0.5,1,step=0.05),\n",
    "        'n_estimators': trial.suggest_int('n_estimators', 100, 10000, step=100),\n",
    "        'learning_rate': trial.suggest_float('learning_rate', 0.001,1,log=True),\n",
    "        'reg_lambda': trial.suggest_int('reg_lambda', 5, 100),\n",
    "        'reg_alpha': trial.suggest_int('reg_alpha', 1, 50),\n",
    "        'min_child_weight': trial.suggest_int('min_child_weight', 1, 70),\n",
    "        'colsample_bytree': trial.suggest_float('colsample_bytree', 0.5, 1, step=0.1),\n",
    "    }\n",
    "    model = XGBClassifier(random_state = random_state, **params)\n",
    "    cv = StratifiedKFold(5, shuffle=True, random_state=random_state)\n",
    "    cv_splits = cv.split(X, y)\n",
    "    scores = []\n",
    "    for train_idx, val_idx in cv_splits:\n",
    "        Xtrain, Xval = X.loc[train_idx], X.loc[val_idx] # y will be separated later, as feature engineering mix the indices greatly.\n",
    "        Xtrain, ytrain, Xval, yval = feature_engineering(Xtrain, Xval, impute=True)\n",
    "        model.fit(Xtrain, ytrain, eval_set=[(Xval, yval)], early_stopping_rounds = 200, verbose=False, eval_metric = \"auc\")\n",
    "        pred = model.predict_proba(Xval)[:,1]\n",
    "        score = roc_auc_score(yval, pred)\n",
    "        scores.append(score)\n",
    "    return np.mean(scores)\n",
    "sqlite_db = \"sqlite:///xgb31.db\"\n",
    "study_name = \"merged_ss\"\n",
    "if opt_xgb31:\n",
    "    study = optuna.create_study(storage = sqlite_db, study_name = study_name, \n",
    "                               sampler = TPESampler(n_startup_trials=35, multivariate=True, seed=random_state),\n",
    "                               direction=\"maximize\", load_if_exists=True)\n",
    "    study.optimize(objective, n_trials = 100, gc_after_trial=True)"
   ]
  },
  {
   "cell_type": "code",
   "execution_count": 11,
   "id": "19d48e48",
   "metadata": {
    "execution": {
     "iopub.execute_input": "2024-10-31T08:32:37.207574Z",
     "iopub.status.busy": "2024-10-31T08:32:37.207136Z",
     "iopub.status.idle": "2024-10-31T08:32:37.372219Z",
     "shell.execute_reply": "2024-10-31T08:32:37.370901Z"
    },
    "papermill": {
     "duration": 0.179763,
     "end_time": "2024-10-31T08:32:37.374811",
     "exception": false,
     "start_time": "2024-10-31T08:32:37.195048",
     "status": "completed"
    },
    "tags": []
   },
   "outputs": [
    {
     "name": "stdout",
     "output_type": "stream",
     "text": [
      "The best parameters and score: \n"
     ]
    },
    {
     "data": {
      "text/plain": [
       "value                  0.960076\n",
       "colsample_bytree       0.600000\n",
       "learning_rate          0.012685\n",
       "max_depth              8.000000\n",
       "min_child_weight       5.000000\n",
       "n_estimators        6500.000000\n",
       "reg_alpha              2.000000\n",
       "reg_lambda            17.000000\n",
       "subsample              1.000000\n",
       "Name: 95, dtype: float64"
      ]
     },
     "metadata": {},
     "output_type": "display_data"
    },
    {
     "name": "stdout",
     "output_type": "stream",
     "text": [
      "Best CV Iterations: \n",
      "[1119, 693, 781, 1024, 834]\n"
     ]
    }
   ],
   "source": [
    "# Analyze Store (Best) Study Outcome\n",
    "if opt_xgb31:\n",
    "    xgb31_out = study.trials_dataframe().sort_values(by=\"value\", ascending=False)\n",
    "    xgb31_out.columns = [x[7:] if x[:7] == \"params_\" else x for x in xgb31_out.columns]\n",
    "    focus_col = ['value', 'colsample_bytree', 'learning_rate', 'max_depth', 'min_child_weight',\n",
    "                 'n_estimators', 'reg_alpha', 'reg_lambda', 'subsample']\n",
    "    xgb31_out = xgb31_out[focus_col]\n",
    "    display(xgb31_out.head())\n",
    "if xgb31_exist:\n",
    "    xgb31_out = optuna.load_study(study_name = study_name, storage=sqlite_db).trials_dataframe().sort_values(by=\"value\", ascending=False)\n",
    "    xgb31_out.columns = [x[7:] if x[:7] == \"params_\" else x for x in xgb31_out.columns]\n",
    "    focus_col = ['value', 'colsample_bytree', 'learning_rate', 'max_depth', 'min_child_weight',\n",
    "                 'n_estimators', 'reg_alpha', 'reg_lambda', 'subsample']\n",
    "    xgb31_out = xgb31_out[focus_col]\n",
    "    best_param = xgb31_out.iloc[0,:]\n",
    "    xgb31_params = {\n",
    "        'max_depth': best_param['max_depth'].astype(\"int\"),\n",
    "        'subsample': best_param['subsample'],\n",
    "        'n_estimators': best_param['n_estimators'].astype(\"int\"),\n",
    "        'learning_rate': best_param['learning_rate'],\n",
    "        'reg_lambda': best_param['reg_lambda'],\n",
    "        'reg_alpha': best_param['reg_alpha'],\n",
    "        'min_child_weight': best_param['min_child_weight'].astype(\"int\"),\n",
    "        'colsample_bytree': best_param['colsample_bytree'],\n",
    "    }\n",
    "    print(\"The best parameters and score: \")\n",
    "    display(best_param)\n",
    "    print(\"Best CV Iterations: \")\n",
    "    xgb31_iter = [1119, 693, 781, 1024, 834]\n",
    "    print(xgb31_iter)"
   ]
  },
  {
   "cell_type": "markdown",
   "id": "6a5d0cd9",
   "metadata": {
    "papermill": {
     "duration": 0.010425,
     "end_time": "2024-10-31T08:32:37.395965",
     "exception": false,
     "start_time": "2024-10-31T08:32:37.385540",
     "status": "completed"
    },
    "tags": []
   },
   "source": [
    "# XGB Models Test Outcome (Individual)"
   ]
  },
  {
   "cell_type": "markdown",
   "id": "deb4d145",
   "metadata": {
    "papermill": {
     "duration": 0.010342,
     "end_time": "2024-10-31T08:32:37.416774",
     "exception": false,
     "start_time": "2024-10-31T08:32:37.406432",
     "status": "completed"
    },
    "tags": []
   },
   "source": [
    "## 0. Importing Test Data (Splitted from Xtrain)"
   ]
  },
  {
   "cell_type": "code",
   "execution_count": 12,
   "id": "5d5f362a",
   "metadata": {
    "execution": {
     "iopub.execute_input": "2024-10-31T08:32:37.440227Z",
     "iopub.status.busy": "2024-10-31T08:32:37.439448Z",
     "iopub.status.idle": "2024-10-31T08:32:37.480527Z",
     "shell.execute_reply": "2024-10-31T08:32:37.479419Z"
    },
    "papermill": {
     "duration": 0.056056,
     "end_time": "2024-10-31T08:32:37.483351",
     "exception": false,
     "start_time": "2024-10-31T08:32:37.427295",
     "status": "completed"
    },
    "tags": []
   },
   "outputs": [
    {
     "data": {
      "text/html": [
       "<div>\n",
       "<style scoped>\n",
       "    .dataframe tbody tr th:only-of-type {\n",
       "        vertical-align: middle;\n",
       "    }\n",
       "\n",
       "    .dataframe tbody tr th {\n",
       "        vertical-align: top;\n",
       "    }\n",
       "\n",
       "    .dataframe thead th {\n",
       "        text-align: right;\n",
       "    }\n",
       "</style>\n",
       "<table border=\"1\" class=\"dataframe\">\n",
       "  <thead>\n",
       "    <tr style=\"text-align: right;\">\n",
       "      <th></th>\n",
       "      <th>person_age</th>\n",
       "      <th>person_income</th>\n",
       "      <th>person_home_ownership</th>\n",
       "      <th>person_emp_length</th>\n",
       "      <th>loan_intent</th>\n",
       "      <th>loan_grade</th>\n",
       "      <th>loan_amnt</th>\n",
       "      <th>loan_int_rate</th>\n",
       "      <th>loan_percent_income</th>\n",
       "      <th>cb_person_default_on_file</th>\n",
       "      <th>cb_person_cred_hist_length</th>\n",
       "      <th>loan_status</th>\n",
       "      <th>Type</th>\n",
       "    </tr>\n",
       "  </thead>\n",
       "  <tbody>\n",
       "    <tr>\n",
       "      <th>0</th>\n",
       "      <td>25</td>\n",
       "      <td>45000</td>\n",
       "      <td>RENT</td>\n",
       "      <td>6.0</td>\n",
       "      <td>MEDICAL</td>\n",
       "      <td>C</td>\n",
       "      <td>17000</td>\n",
       "      <td>12.99</td>\n",
       "      <td>0.36</td>\n",
       "      <td>Y</td>\n",
       "      <td>3</td>\n",
       "      <td>1</td>\n",
       "      <td>1</td>\n",
       "    </tr>\n",
       "    <tr>\n",
       "      <th>1</th>\n",
       "      <td>33</td>\n",
       "      <td>65000</td>\n",
       "      <td>RENT</td>\n",
       "      <td>3.0</td>\n",
       "      <td>DEBTCONSOLIDATION</td>\n",
       "      <td>B</td>\n",
       "      <td>5000</td>\n",
       "      <td>11.49</td>\n",
       "      <td>0.08</td>\n",
       "      <td>N</td>\n",
       "      <td>5</td>\n",
       "      <td>0</td>\n",
       "      <td>1</td>\n",
       "    </tr>\n",
       "    <tr>\n",
       "      <th>2</th>\n",
       "      <td>26</td>\n",
       "      <td>90000</td>\n",
       "      <td>MORTGAGE</td>\n",
       "      <td>9.0</td>\n",
       "      <td>DEBTCONSOLIDATION</td>\n",
       "      <td>A</td>\n",
       "      <td>6500</td>\n",
       "      <td>7.14</td>\n",
       "      <td>0.07</td>\n",
       "      <td>N</td>\n",
       "      <td>2</td>\n",
       "      <td>0</td>\n",
       "      <td>1</td>\n",
       "    </tr>\n",
       "    <tr>\n",
       "      <th>3</th>\n",
       "      <td>26</td>\n",
       "      <td>67000</td>\n",
       "      <td>RENT</td>\n",
       "      <td>10.0</td>\n",
       "      <td>PERSONAL</td>\n",
       "      <td>B</td>\n",
       "      <td>10000</td>\n",
       "      <td>12.21</td>\n",
       "      <td>0.15</td>\n",
       "      <td>N</td>\n",
       "      <td>2</td>\n",
       "      <td>0</td>\n",
       "      <td>1</td>\n",
       "    </tr>\n",
       "    <tr>\n",
       "      <th>4</th>\n",
       "      <td>22</td>\n",
       "      <td>60000</td>\n",
       "      <td>RENT</td>\n",
       "      <td>6.0</td>\n",
       "      <td>MEDICAL</td>\n",
       "      <td>C</td>\n",
       "      <td>12500</td>\n",
       "      <td>14.22</td>\n",
       "      <td>0.21</td>\n",
       "      <td>Y</td>\n",
       "      <td>2</td>\n",
       "      <td>0</td>\n",
       "      <td>1</td>\n",
       "    </tr>\n",
       "  </tbody>\n",
       "</table>\n",
       "</div>"
      ],
      "text/plain": [
       "   person_age  person_income person_home_ownership  person_emp_length  \\\n",
       "0          25          45000                  RENT                6.0   \n",
       "1          33          65000                  RENT                3.0   \n",
       "2          26          90000              MORTGAGE                9.0   \n",
       "3          26          67000                  RENT               10.0   \n",
       "4          22          60000                  RENT                6.0   \n",
       "\n",
       "         loan_intent loan_grade  loan_amnt  loan_int_rate  \\\n",
       "0            MEDICAL          C      17000          12.99   \n",
       "1  DEBTCONSOLIDATION          B       5000          11.49   \n",
       "2  DEBTCONSOLIDATION          A       6500           7.14   \n",
       "3           PERSONAL          B      10000          12.21   \n",
       "4            MEDICAL          C      12500          14.22   \n",
       "\n",
       "   loan_percent_income cb_person_default_on_file  cb_person_cred_hist_length  \\\n",
       "0                 0.36                         Y                           3   \n",
       "1                 0.08                         N                           5   \n",
       "2                 0.07                         N                           2   \n",
       "3                 0.15                         N                           2   \n",
       "4                 0.21                         Y                           2   \n",
       "\n",
       "   loan_status  Type  \n",
       "0            1     1  \n",
       "1            0     1  \n",
       "2            0     1  \n",
       "3            0     1  \n",
       "4            0     1  "
      ]
     },
     "metadata": {},
     "output_type": "display_data"
    }
   ],
   "source": [
    "test = pd.read_csv(path + \"/cv.csv\")\n",
    "display(test.head())"
   ]
  },
  {
   "cell_type": "code",
   "execution_count": 13,
   "id": "aaceaf04",
   "metadata": {
    "execution": {
     "iopub.execute_input": "2024-10-31T08:32:37.508704Z",
     "iopub.status.busy": "2024-10-31T08:32:37.507667Z",
     "iopub.status.idle": "2024-10-31T08:32:37.514763Z",
     "shell.execute_reply": "2024-10-31T08:32:37.513685Z"
    },
    "papermill": {
     "duration": 0.022451,
     "end_time": "2024-10-31T08:32:37.517211",
     "exception": false,
     "start_time": "2024-10-31T08:32:37.494760",
     "status": "completed"
    },
    "tags": []
   },
   "outputs": [],
   "source": [
    "def xgb_pred(models, Xtest):\n",
    "    y_pred = []\n",
    "    for model in models:\n",
    "        y_pred.append(model.predict_proba(Xtest)[:,1])\n",
    "    y_pred = np.array(y_pred).sum(axis=0)/len(models)\n",
    "    return y_pred"
   ]
  },
  {
   "cell_type": "markdown",
   "id": "42261ba3",
   "metadata": {
    "papermill": {
     "duration": 0.010754,
     "end_time": "2024-10-31T08:32:37.539088",
     "exception": false,
     "start_time": "2024-10-31T08:32:37.528334",
     "status": "completed"
    },
    "tags": []
   },
   "source": [
    "## 1. `xgb11` Model"
   ]
  },
  {
   "cell_type": "code",
   "execution_count": 14,
   "id": "e9a88024",
   "metadata": {
    "execution": {
     "iopub.execute_input": "2024-10-31T08:32:37.563144Z",
     "iopub.status.busy": "2024-10-31T08:32:37.562566Z",
     "iopub.status.idle": "2024-10-31T08:32:55.737423Z",
     "shell.execute_reply": "2024-10-31T08:32:55.736417Z"
    },
    "papermill": {
     "duration": 18.190185,
     "end_time": "2024-10-31T08:32:55.740259",
     "exception": false,
     "start_time": "2024-10-31T08:32:37.550074",
     "status": "completed"
    },
    "tags": []
   },
   "outputs": [],
   "source": [
    "xgb11_model = []\n",
    "Xtest = test.copy()\n",
    "Xtrain = pd.read_csv(path + \"/trains.csv\")\n",
    "Xtrain, ytrain, Xtest, ytest = feature_engineering(Xtrain, Xtest)\n",
    "for i in range(5):\n",
    "    xgb11_params['n_estimators'] = xgb11_iter[i]\n",
    "    model = XGBClassifier(random_state = random_state, **xgb11_params)\n",
    "    model.fit(Xtrain, ytrain, verbose=False, eval_metric = \"auc\")\n",
    "    xgb11_model.append(model)"
   ]
  },
  {
   "cell_type": "code",
   "execution_count": 15,
   "id": "577b4d85",
   "metadata": {
    "execution": {
     "iopub.execute_input": "2024-10-31T08:32:55.765839Z",
     "iopub.status.busy": "2024-10-31T08:32:55.765392Z",
     "iopub.status.idle": "2024-10-31T08:32:55.978340Z",
     "shell.execute_reply": "2024-10-31T08:32:55.977267Z"
    },
    "papermill": {
     "duration": 0.228441,
     "end_time": "2024-10-31T08:32:55.981095",
     "exception": false,
     "start_time": "2024-10-31T08:32:55.752654",
     "status": "completed"
    },
    "tags": []
   },
   "outputs": [
    {
     "name": "stdout",
     "output_type": "stream",
     "text": [
      "Test ROC AUC Score: 0.9515211296014218\n"
     ]
    }
   ],
   "source": [
    "score = roc_auc_score(ytest, xgb_pred(xgb11_model, Xtest))\n",
    "print(\"Test ROC AUC Score: \" + str(score))"
   ]
  },
  {
   "cell_type": "markdown",
   "id": "e8d3191c",
   "metadata": {
    "papermill": {
     "duration": 0.010905,
     "end_time": "2024-10-31T08:32:56.003655",
     "exception": false,
     "start_time": "2024-10-31T08:32:55.992750",
     "status": "completed"
    },
    "tags": []
   },
   "source": [
    "## 2. `xgb21` Model"
   ]
  },
  {
   "cell_type": "code",
   "execution_count": 16,
   "id": "32cd3409",
   "metadata": {
    "execution": {
     "iopub.execute_input": "2024-10-31T08:32:56.028020Z",
     "iopub.status.busy": "2024-10-31T08:32:56.027499Z",
     "iopub.status.idle": "2024-10-31T08:33:30.740905Z",
     "shell.execute_reply": "2024-10-31T08:33:30.739819Z"
    },
    "papermill": {
     "duration": 34.729051,
     "end_time": "2024-10-31T08:33:30.743845",
     "exception": false,
     "start_time": "2024-10-31T08:32:56.014794",
     "status": "completed"
    },
    "tags": []
   },
   "outputs": [],
   "source": [
    "xgb21_model = []\n",
    "Xtest = test.copy()\n",
    "Xtrain = pd.read_csv(path + \"/merge_rmvd.csv\")\n",
    "Xtrain, ytrain, Xtest, ytest = feature_engineering(Xtrain, Xtest)\n",
    "for i in range(5):\n",
    "    xgb21_params['n_estimators'] = xgb21_iter[i]\n",
    "    model = XGBClassifier(random_state = random_state, **xgb21_params)\n",
    "    model.fit(Xtrain, ytrain, verbose=False, eval_metric = \"auc\")\n",
    "    xgb21_model.append(model)"
   ]
  },
  {
   "cell_type": "code",
   "execution_count": 17,
   "id": "dfa720a5",
   "metadata": {
    "execution": {
     "iopub.execute_input": "2024-10-31T08:33:30.770021Z",
     "iopub.status.busy": "2024-10-31T08:33:30.768819Z",
     "iopub.status.idle": "2024-10-31T08:33:31.073856Z",
     "shell.execute_reply": "2024-10-31T08:33:31.072765Z"
    },
    "papermill": {
     "duration": 0.320465,
     "end_time": "2024-10-31T08:33:31.076635",
     "exception": false,
     "start_time": "2024-10-31T08:33:30.756170",
     "status": "completed"
    },
    "tags": []
   },
   "outputs": [
    {
     "name": "stdout",
     "output_type": "stream",
     "text": [
      "Test ROC AUC Score: 0.9559031302655127\n"
     ]
    }
   ],
   "source": [
    "score = roc_auc_score(ytest, xgb_pred(xgb21_model, Xtest))\n",
    "print(\"Test ROC AUC Score: \" + str(score))"
   ]
  },
  {
   "cell_type": "markdown",
   "id": "6fb67703",
   "metadata": {
    "papermill": {
     "duration": 0.010981,
     "end_time": "2024-10-31T08:33:31.099749",
     "exception": false,
     "start_time": "2024-10-31T08:33:31.088768",
     "status": "completed"
    },
    "tags": []
   },
   "source": [
    "## 3. `xgb31` Model"
   ]
  },
  {
   "cell_type": "code",
   "execution_count": 18,
   "id": "fe1b69d5",
   "metadata": {
    "execution": {
     "iopub.execute_input": "2024-10-31T08:33:31.125126Z",
     "iopub.status.busy": "2024-10-31T08:33:31.123922Z",
     "iopub.status.idle": "2024-10-31T08:34:13.581318Z",
     "shell.execute_reply": "2024-10-31T08:34:13.580191Z"
    },
    "papermill": {
     "duration": 42.473607,
     "end_time": "2024-10-31T08:34:13.584674",
     "exception": false,
     "start_time": "2024-10-31T08:33:31.111067",
     "status": "completed"
    },
    "tags": []
   },
   "outputs": [],
   "source": [
    "xgb31_model = []\n",
    "Xtest = test.copy()\n",
    "Xtrain = pd.read_csv(path + \"/merged.csv\")\n",
    "Xtrain, ytrain, Xtest, ytest = feature_engineering(Xtrain, Xtest)\n",
    "for i in range(5):\n",
    "    xgb31_params['n_estimators'] = xgb31_iter[i]\n",
    "    model = XGBClassifier(random_state = random_state, **xgb31_params)\n",
    "    model.fit(Xtrain, ytrain, verbose=False, eval_metric = \"auc\")\n",
    "    xgb31_model.append(model)"
   ]
  },
  {
   "cell_type": "code",
   "execution_count": 19,
   "id": "800f50be",
   "metadata": {
    "execution": {
     "iopub.execute_input": "2024-10-31T08:34:13.610920Z",
     "iopub.status.busy": "2024-10-31T08:34:13.610078Z",
     "iopub.status.idle": "2024-10-31T08:34:14.035405Z",
     "shell.execute_reply": "2024-10-31T08:34:14.034369Z"
    },
    "papermill": {
     "duration": 0.441857,
     "end_time": "2024-10-31T08:34:14.038527",
     "exception": false,
     "start_time": "2024-10-31T08:34:13.596670",
     "status": "completed"
    },
    "tags": []
   },
   "outputs": [
    {
     "name": "stdout",
     "output_type": "stream",
     "text": [
      "Test ROC AUC Score: 0.9544531668475948\n"
     ]
    }
   ],
   "source": [
    "score = roc_auc_score(ytest, xgb_pred(xgb31_model, Xtest))\n",
    "print(\"Test ROC AUC Score: \" + str(score))"
   ]
  },
  {
   "cell_type": "markdown",
   "id": "2e2b1974",
   "metadata": {
    "papermill": {
     "duration": 0.010982,
     "end_time": "2024-10-31T08:34:14.061482",
     "exception": false,
     "start_time": "2024-10-31T08:34:14.050500",
     "status": "completed"
    },
    "tags": []
   },
   "source": [
    "# Save Models\n",
    "The three trained models `1gbm11`, `lgbm21`, `lgbm31` are stored as they will be later aggregated by diverse methods in the effort to increase the score."
   ]
  },
  {
   "cell_type": "code",
   "execution_count": 20,
   "id": "38f915db",
   "metadata": {
    "execution": {
     "iopub.execute_input": "2024-10-31T08:34:14.085532Z",
     "iopub.status.busy": "2024-10-31T08:34:14.085052Z",
     "iopub.status.idle": "2024-10-31T08:34:15.175534Z",
     "shell.execute_reply": "2024-10-31T08:34:15.174185Z"
    },
    "papermill": {
     "duration": 1.106956,
     "end_time": "2024-10-31T08:34:15.179488",
     "exception": false,
     "start_time": "2024-10-31T08:34:14.072532",
     "status": "completed"
    },
    "tags": []
   },
   "outputs": [],
   "source": [
    "# all_models = [xgb11_model, xgb21_model, xgb31_model]\n",
    "# models_name = [\"xgb11\", \"xgb21\", \"xgb31\"]\n",
    "# for i in range(3):\n",
    "#     for j in range(5):\n",
    "#         name = models_name[i] + \"_\" + str(j) + \".json\"\n",
    "#         all_models[i][j].save_model(name)"
   ]
  }
 ],
 "metadata": {
  "kaggle": {
   "accelerator": "none",
   "dataSources": [
    {
     "databundleVersionId": 9709193,
     "sourceId": 84894,
     "sourceType": "competition"
    },
    {
     "datasetId": 5968860,
     "sourceId": 9763062,
     "sourceType": "datasetVersion"
    },
    {
     "sourceId": 204145199,
     "sourceType": "kernelVersion"
    }
   ],
   "dockerImageVersionId": 30786,
   "isGpuEnabled": false,
   "isInternetEnabled": true,
   "language": "python",
   "sourceType": "notebook"
  },
  "kernelspec": {
   "display_name": "Python 3",
   "language": "python",
   "name": "python3"
  },
  "language_info": {
   "codemirror_mode": {
    "name": "ipython",
    "version": 3
   },
   "file_extension": ".py",
   "mimetype": "text/x-python",
   "name": "python",
   "nbconvert_exporter": "python",
   "pygments_lexer": "ipython3",
   "version": "3.10.14"
  },
  "papermill": {
   "default_parameters": {},
   "duration": 108.548663,
   "end_time": "2024-10-31T08:34:16.315042",
   "environment_variables": {},
   "exception": null,
   "input_path": "__notebook__.ipynb",
   "output_path": "__notebook__.ipynb",
   "parameters": {},
   "start_time": "2024-10-31T08:32:27.766379",
   "version": "2.6.0"
  }
 },
 "nbformat": 4,
 "nbformat_minor": 5
}
